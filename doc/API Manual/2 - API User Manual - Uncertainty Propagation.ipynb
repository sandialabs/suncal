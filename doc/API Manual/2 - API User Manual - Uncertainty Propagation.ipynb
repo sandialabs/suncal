{
 "cells": [
  {
   "cell_type": "markdown",
   "id": "9c2fa586",
   "metadata": {},
   "source": [
    "# Suncal API User Manual: Uncertainty Propagation Calculations\n",
    "\n",
    "This notebook outlines use of suncal for determining uncertainty in a measurement model using both GUM and Monte Carlo methods.\n",
    "A measurement model mathematically defined by $y = f(x_1, x_2, ...)$, where the uncertianty each $x_n$ is known, and the uncertainty $u(y)$ in the output $y$ is to be calculated. A model may also contain multiple functions sharing the same input variables.\n",
    "\n",
    "In suncal, the model may be a string expression, a sympy expression, or any Python callable, as described below.\n",
    "A Type A uncertainty and any number of Type B uncertainties may be defined for each variable in the model."
   ]
  },
  {
   "cell_type": "code",
   "execution_count": 1,
   "id": "1f972453",
   "metadata": {},
   "outputs": [],
   "source": [
    "import suncal"
   ]
  },
  {
   "cell_type": "markdown",
   "id": "d0872c31",
   "metadata": {},
   "source": [
    "## Measurement Models\n",
    "\n",
    "Start by defining the basic measurement model using `suncal.Model`. Input variables are defined using `var()` to access the variable by name, then `measure` to provide the measured or expected value. Type B uncertainties are added using the `typeb()` method on each variable.\n",
    "\n",
    "The `calculate()` method calculates uncertainty using both GUM and Monte Carlo methods."
   ]
  },
  {
   "cell_type": "code",
   "execution_count": 2,
   "id": "ee755505",
   "metadata": {},
   "outputs": [
    {
     "data": {
      "text/markdown": [
       "|Function   | Method       | Nominal   | Std. Uncertainty   | 95% Coverage   | k         | Deg. Freedom  |\n",
       "|----------|------------|---------|------------------|--------------|---------|--------------|\n",
       "|$R$   | GUM          | 50.00  | 0.28           | ± 0.55     | 1.960     | inf           |\n",
       "|$R$   | Monte Carlo  | 50.00  | 0.28           | (49.45, 50.55) | 1.958     | &nbsp;        |"
      ],
      "text/plain": [
       "UncertaintyResults(gum=<suncal.uncertainty.results.gum.GumResults object at 0x000001922FAB02F0>, montecarlo=<suncal.uncertainty.results.monte.McResults object at 0x000001922AB609E0>)"
      ]
     },
     "execution_count": 2,
     "metadata": {},
     "output_type": "execute_result"
    }
   ],
   "source": [
    "model = suncal.Model('R = V/I')\n",
    "model.var('V').measure(100).typeb(unc=1, k=2)\n",
    "model.var('I').measure(2).typeb(unc=.01, k=2)\n",
    "model.calculate()"
   ]
  },
  {
   "cell_type": "markdown",
   "id": "51858059",
   "metadata": {},
   "source": [
    "## Input Variable Uncertainties\n",
    "\n",
    "### Type A Uncertainties\n",
    "\n",
    "Often a variable will be determined by the mean of a series of measurements, leading to a Type A uncertainty. Type A uncertainties are calculated automatically when the `measure()` method recieves a list or array of values.\n",
    "Here is a direct measurement (single input variable) with only Type A uncertainty."
   ]
  },
  {
   "cell_type": "code",
   "execution_count": 3,
   "id": "4a3837f4",
   "metadata": {},
   "outputs": [
    {
     "data": {
      "text/markdown": [
       "|Function   | Method       | Nominal   | Std. Uncertainty   | 95% Coverage   | k         | Deg. Freedom  |\n",
       "|----------|------------|---------|------------------|--------------|---------|--------------|\n",
       "|$f$   | GUM          | 100.71  | 0.47           | ± 1.2     | 2.447     | 6.0           |\n",
       "|$f$   | Monte Carlo  | 100.71  | 0.47           | (99.79, 101.64) | 1.961     | &nbsp;        |"
      ],
      "text/plain": [
       "UncertaintyResults(gum=<suncal.uncertainty.results.gum.GumResults object at 0x000001922AB60950>, montecarlo=<suncal.uncertainty.results.monte.McResults object at 0x000001922AB9F9E0>)"
      ]
     },
     "execution_count": 3,
     "metadata": {},
     "output_type": "execute_result"
    }
   ],
   "source": [
    "model = suncal.Model('f = V')\n",
    "model.var('V').measure([100, 101, 103, 99, 100, 101, 101])\n",
    "model.calculate()"
   ]
  },
  {
   "cell_type": "markdown",
   "id": "e539c20c",
   "metadata": {},
   "source": [
    "### Type B Uncertainties\n",
    "\n",
    "Type B uncertainties may be added to the variable using the `typeb` method, which takes arguments specifying the probability distribution to use. Type B uncertainties are given normal distributions by default, and they may be specified using `std` for standard uncertainty, or `unc` and `k` to specify an uncertainty at another coverage factor.\n",
    "\n",
    "The `typeb` and `measure` methods return an instance of the variable, so the function calls may be chained together for readability."
   ]
  },
  {
   "cell_type": "code",
   "execution_count": 4,
   "id": "55877715",
   "metadata": {},
   "outputs": [
    {
     "data": {
      "text/markdown": [
       "|Function   | Nominal   | Std. Uncertainty  |\n",
       "|----------|---------|------------------|\n",
       "|$f$   | 100.0  | 1.0          |\n",
       "\n",
       "\n",
       "\n",
       "|Function   | Tolerance   | Probability of Conformance  |\n",
       "|----------|-----------|----------------------------|"
      ],
      "text/plain": [
       "<suncal.uncertainty.results.gum.GumResults at 0x1920e094e30>"
      ]
     },
     "execution_count": 4,
     "metadata": {},
     "output_type": "execute_result"
    }
   ],
   "source": [
    "model = suncal.Model('f = V')\n",
    "model.var('V').measure(100).typeb(unc=2, k=2)\n",
    "model.calculate_gum()"
   ]
  },
  {
   "cell_type": "code",
   "execution_count": 5,
   "id": "2efe23ac",
   "metadata": {},
   "outputs": [
    {
     "data": {
      "text/markdown": [
       "|Function   | Nominal   | Std. Uncertainty  |\n",
       "|----------|---------|------------------|\n",
       "|$f$   | 100.0  | 1.0          |\n",
       "\n",
       "\n",
       "\n",
       "|Function   | Tolerance   | Probability of Conformance  |\n",
       "|----------|-----------|----------------------------|"
      ],
      "text/plain": [
       "<suncal.uncertainty.results.gum.GumResults at 0x1922ab9dfa0>"
      ]
     },
     "execution_count": 5,
     "metadata": {},
     "output_type": "execute_result"
    }
   ],
   "source": [
    "model = suncal.Model('f = V')\n",
    "model.var('V').measure(100).typeb(std=1)\n",
    "model.calculate_gum()"
   ]
  },
  {
   "cell_type": "markdown",
   "id": "496d3376",
   "metadata": {},
   "source": [
    "Other distributions are available by providing the `dist` parameter. Here, a uniform distribution is supplied, with half-width `a`. Notice the standard uncertainty becomes $\\frac{a}{\\sqrt{3}}$"
   ]
  },
  {
   "cell_type": "code",
   "execution_count": 6,
   "id": "1bc3570c",
   "metadata": {},
   "outputs": [
    {
     "data": {
      "text/markdown": [
       "|Function   | Nominal   | Std. Uncertainty  |\n",
       "|----------|---------|------------------|\n",
       "|$f$   | 100.00  | 0.58          |\n",
       "\n",
       "\n",
       "\n",
       "|Function   | Tolerance   | Probability of Conformance  |\n",
       "|----------|-----------|----------------------------|"
      ],
      "text/plain": [
       "<suncal.uncertainty.results.gum.GumResults at 0x1922fb176e0>"
      ]
     },
     "execution_count": 6,
     "metadata": {},
     "output_type": "execute_result"
    }
   ],
   "source": [
    "model = suncal.Model('f = V')\n",
    "model.var('V').measure(100).typeb(dist='uniform', a=1)\n",
    "model.calculate_gum()"
   ]
  },
  {
   "cell_type": "markdown",
   "id": "e6d77e7b",
   "metadata": {},
   "source": [
    "The dist name must be an available distribution in the scipy.stats module, and in general, parameters match the parameters required to define the scipy.stats instance.\n",
    "\n",
    "Multiple Type B uncertainties may be cascaded to account for things like equipment accuracy, resolution, temperature effects, etc. Each Type B can be provided a name for record keeping purposes."
   ]
  },
  {
   "cell_type": "code",
   "execution_count": 7,
   "id": "f4c272a8",
   "metadata": {},
   "outputs": [
    {
     "data": {
      "text/html": [
       "<!DOCTYPE html><html lang=\"en\">\n",
       "<head>\n",
       "<style type=\"text/css\">\n",
       "\n",
       "body {\n",
       "  font-family: sans-serif;\n",
       "  font-size: 16px;\n",
       "  line-height: 1.7;\n",
       "  padding: 1em;\n",
       "  margin: auto;\n",
       "  max-width: 56em;\n",
       "}\n",
       "\n",
       "a {\n",
       "  color: #0645ad;\n",
       "  text-decoration: none;\n",
       "}\n",
       "\n",
       "a:visited {\n",
       "  color: #0b0080;\n",
       "}\n",
       "\n",
       "a:hover {\n",
       "  color: #06e;\n",
       "}\n",
       "\n",
       "a:active {\n",
       "  color: #7c4ca8;\n",
       "}\n",
       "\n",
       "a:focus {\n",
       "  outline: thin dotted;\n",
       "}\n",
       "\n",
       "*::selection {\n",
       "  background: rgba(0, 89, 255, 0.3);\n",
       "  color: #000;\n",
       "}\n",
       "\n",
       "p {\n",
       "  font-family: sans-serif;\n",
       "  margin: 1em 0;\n",
       "}\n",
       "\n",
       "img {\n",
       "  max-width: 100%;\n",
       "}\n",
       "\n",
       "h1, h2, h3, h4, h5, h6 {\n",
       "  font-family: sans-serif;\n",
       "  line-height: 125%;\n",
       "  margin-top: 2em;\n",
       "  font-weight: normal;\n",
       "}\n",
       "\n",
       "h4, h5, h6 {\n",
       "  font-weight: bold;\n",
       "}\n",
       "\n",
       "h1 {\n",
       "  font-size: 2.5em;\n",
       "}\n",
       "\n",
       "h2 {\n",
       "  font-size: 2em;\n",
       "}\n",
       "\n",
       "h3 {\n",
       "  font-size: 1.5em;\n",
       "}\n",
       "\n",
       "h4 {\n",
       "  font-size: 1.2em;\n",
       "}\n",
       "\n",
       "h5 {\n",
       "  font-size: 1em;\n",
       "}\n",
       "\n",
       "h6 {\n",
       "  font-size: 0.9em;\n",
       "}\n",
       "\n",
       "table {\n",
       "    margin: 10px 5px;\n",
       "    border-collapse: collapse;\n",
       " }\n",
       "\n",
       "th {\n",
       "    background-color: #eee;\n",
       "    font-weight: bold;\n",
       "}\n",
       "\n",
       "th, td {\n",
       "    border: 1px solid lightgray;\n",
       "    padding: .2em 1em;\n",
       "}\n",
       "</style><script>\n",
       "  MathJax = {\n",
       "    tex: {\n",
       "      inlineMath: [['$', '$'], ['\\\\(', '\\\\)']]\n",
       "    },\n",
       "    svg: {\n",
       "      fontCache: 'global',\n",
       "      scale: 1.3\n",
       "    }\n",
       "  };\n",
       "  </script>\n",
       "  <script type=\"text/javascript\" id=\"MathJax-script\" async\n",
       "    src=\"https://cdn.jsdelivr.net/npm/mathjax@3/es5/tex-svg.js\">\n",
       "</script>\n",
       "</head>\n",
       "<body>\n",
       "<table>\n",
       "<thead>\n",
       "<tr>\n",
       "<th>Variable</th>\n",
       "<th>Component</th>\n",
       "<th>Standard Uncertainty</th>\n",
       "<th>Deg. Freedom</th>\n",
       "<th>Description</th>\n",
       "</tr>\n",
       "</thead>\n",
       "<tbody>\n",
       "<tr>\n",
       "<td>$V$</td>\n",
       "<td>&nbsp;</td>\n",
       "<td>&nbsp;</td>\n",
       "<td>&nbsp;</td>\n",
       "<td></td>\n",
       "</tr>\n",
       "<tr>\n",
       "<td>&nbsp;</td>\n",
       "<td>Type A</td>\n",
       "<td>0.47</td>\n",
       "<td>6.0</td>\n",
       "<td>Type A uncertainty from 7 measurements</td>\n",
       "</tr>\n",
       "<tr>\n",
       "<td>&nbsp;</td>\n",
       "<td>accuracy</td>\n",
       "<td>0.50</td>\n",
       "<td>inf</td>\n",
       "<td></td>\n",
       "</tr>\n",
       "<tr>\n",
       "<td>&nbsp;</td>\n",
       "<td>resolution</td>\n",
       "<td>0.50</td>\n",
       "<td>inf</td>\n",
       "<td></td>\n",
       "</tr>\n",
       "</tbody>\n",
       "</table>\n",
       "</body>\n",
       "</html>"
      ],
      "text/markdown": [
       "|Variable   | Component   | Standard Uncertainty   | Deg. Freedom   | Description                            |\n",
       "|----------|-----------|----------------------|--------------|---------------------------------------|\n",
       "|$V$   | &nbsp;      | &nbsp;                 | &nbsp;         |                                        |\n",
       "|&nbsp;     | Type A      | 0.47               | 6.0       | Type A uncertainty from 7 measurements |\n",
       "|&nbsp;     | accuracy    | 0.50               | inf       |                                        |\n",
       "|&nbsp;     | resolution  | 0.50               | inf       |                                        |"
      ],
      "text/plain": [
       "<suncal.common.report.Report at 0x1922ab9cec0>"
      ]
     },
     "execution_count": 7,
     "metadata": {},
     "output_type": "execute_result"
    }
   ],
   "source": [
    "model = suncal.Model('f = V')\n",
    "model.var('V').measure([100, 101, 103, 99, 100, 101, 101]).typeb(name='accuracy', unc=.5).typeb(name='resolution', unc=.5)\n",
    "result = model.calculate()\n",
    "result.report.variables.components()"
   ]
  },
  {
   "cell_type": "markdown",
   "id": "c0edd2b3",
   "metadata": {},
   "source": [
    "## Calculating Results\n",
    "\n",
    "Sometimes, only one or the other method is needed. Use `suncal.Model.calculate_gum()` or `suncal.Model.monte_carlo()` to run the specific calculation. Notice the results only include one method, but in this case, are identical."
   ]
  },
  {
   "cell_type": "code",
   "execution_count": 8,
   "id": "af956631",
   "metadata": {},
   "outputs": [
    {
     "data": {
      "text/markdown": [
       "|Function   | Nominal   | Std. Uncertainty  |\n",
       "|----------|---------|------------------|\n",
       "|$R$   | 50.00  | 0.28          |\n",
       "\n",
       "\n",
       "\n",
       "|Function   | Tolerance   | Probability of Conformance  |\n",
       "|----------|-----------|----------------------------|"
      ],
      "text/plain": [
       "<suncal.uncertainty.results.gum.GumResults at 0x1922aacb080>"
      ]
     },
     "execution_count": 8,
     "metadata": {},
     "output_type": "execute_result"
    }
   ],
   "source": [
    "model = suncal.Model('R = V/I')\n",
    "model.var('V').measure(100).typeb(unc=1, k=2)\n",
    "model.var('I').measure(2).typeb(unc=.01, k=2)\n",
    "model.calculate_gum()"
   ]
  },
  {
   "cell_type": "code",
   "execution_count": 9,
   "id": "f29285f1",
   "metadata": {},
   "outputs": [
    {
     "data": {
      "text/markdown": [
       "|Function   | Nominal   | Std. Uncertainty  |\n",
       "|----------|---------|------------------|\n",
       "|$R$   | 50.00  | 0.28          |"
      ],
      "text/plain": [
       "<suncal.uncertainty.results.monte.McResults at 0x1922ab9f7a0>"
      ]
     },
     "execution_count": 9,
     "metadata": {},
     "output_type": "execute_result"
    }
   ],
   "source": [
    "model.monte_carlo()"
   ]
  },
  {
   "cell_type": "markdown",
   "id": "0d7671ff",
   "metadata": {},
   "source": [
    "## Results\n",
    "\n",
    "The calculation methods return results objects whose type depends on the calculation. Read the docstring for the results instance to see all the available parameters."
   ]
  },
  {
   "cell_type": "code",
   "execution_count": 10,
   "id": "754ba393",
   "metadata": {},
   "outputs": [
    {
     "name": "stdout",
     "output_type": "stream",
     "text": [
      " Results of GUM uncertainty calculation\n",
      "\n",
      "        Attributes:\n",
      "            uncertainty (dict): Computed standard uncertainties for each model function\n",
      "            expected (dict): Computed expected/mean values for each model function\n",
      "            Uy (list): Covariance matrix of model functions\n",
      "            Ux (list): Covariance matrix of model input variables\n",
      "            Cx (list): Sensitivity matrix\n",
      "            degf (dict): Effective degrees of freedom for each model function\n",
      "            functions (list): The model functions as Sympy expressions\n",
      "            symbolic (tuple): Symbolic expressions for uncertainty, Uy, Ux, Cx, and degf\n",
      "            variables (tuple): Information about the input variables and uncertainties\n",
      "            constants (dict): Constant quantity names and values, from brackets in model expression\n",
      "            warns (list): Any warnings generated during the calculation\n",
      "            descriptions (dict): Descriptions of model functions\n",
      "            tolerances (dict): Tolerances for each function\n",
      "            p_conform (dict): Probability of conformance with tolerance\n",
      "            report (Report): Generate formatted reports of the results\n",
      "\n",
      "        Methods:\n",
      "            units: Convert the units of uncertainty and expected\n",
      "            expand: Expand the uncertainty of a single function\n",
      "            expanded: Get dictionary of expanded uncertainties for all model functions\n",
      "            expect: Get a single expected value\n",
      "            proportions: Calculate the proportion of uncertainty coming from each input\n",
      "            sensitivity: Calculate sensitivity coefficients\n",
      "            covariance: Calculate covariance between model functions\n",
      "            correlation: Calculation correlation between model functions\n",
      "    \n"
     ]
    }
   ],
   "source": [
    "results = model.calculate_gum()\n",
    "print(results.__doc__)"
   ]
  },
  {
   "cell_type": "markdown",
   "id": "f01bb48e",
   "metadata": {},
   "source": [
    "For example, to access the computed uncertainty and expected value:"
   ]
  },
  {
   "cell_type": "code",
   "execution_count": 11,
   "id": "823f6890",
   "metadata": {},
   "outputs": [
    {
     "data": {
      "text/plain": [
       "{'R': 0.2795084971874737}"
      ]
     },
     "execution_count": 11,
     "metadata": {},
     "output_type": "execute_result"
    }
   ],
   "source": [
    "results.uncertainty"
   ]
  },
  {
   "cell_type": "code",
   "execution_count": 12,
   "id": "05d20562",
   "metadata": {},
   "outputs": [
    {
     "data": {
      "text/plain": [
       "{'R': 50.0}"
      ]
     },
     "execution_count": 12,
     "metadata": {},
     "output_type": "execute_result"
    }
   ],
   "source": [
    "results.expected"
   ]
  },
  {
   "cell_type": "markdown",
   "id": "11d3e2af",
   "metadata": {},
   "source": [
    "Note these return dictionaries with the function name as dictionary key, to enable multi-variable measurement models.\n",
    "The `symbolic` attribute of GUM results is useful to see what was calculated."
   ]
  },
  {
   "cell_type": "code",
   "execution_count": 13,
   "id": "6ec9f93e",
   "metadata": {},
   "outputs": [
    {
     "data": {
      "text/latex": [
       "$\\displaystyle \\sqrt{\\frac{u_{V}^{2}}{I^{2}} + \\frac{V^{2} u_{I}^{2}}{I^{4}}}$"
      ],
      "text/plain": [
       "sqrt(u_V**2/I**2 + V**2*u_I**2/I**4)"
      ]
     },
     "execution_count": 13,
     "metadata": {},
     "output_type": "execute_result"
    }
   ],
   "source": [
    "results.symbolic.uncertainty['u_R']"
   ]
  },
  {
   "cell_type": "markdown",
   "id": "35e39f60",
   "metadata": {},
   "source": [
    "The methods take additional parameters or perform computations on the results. For example, to compute expanded uncertainty at 99% confidence:"
   ]
  },
  {
   "cell_type": "code",
   "execution_count": 14,
   "id": "249d78dd",
   "metadata": {},
   "outputs": [
    {
     "data": {
      "text/plain": [
       "{'R': Expanded(uncertainty=0.7199661790206271, k=2.575829308465448, confidence=0.99)}"
      ]
     },
     "execution_count": 14,
     "metadata": {},
     "output_type": "execute_result"
    }
   ],
   "source": [
    "results.expanded(.99)"
   ]
  },
  {
   "cell_type": "markdown",
   "id": "71af2717",
   "metadata": {},
   "source": [
    "The Monte Carlo method results of course don't have all the same information. However, the random samples both in the variables and the computed model functions are available:"
   ]
  },
  {
   "cell_type": "code",
   "execution_count": 15,
   "id": "93d778eb",
   "metadata": {},
   "outputs": [
    {
     "name": "stdout",
     "output_type": "stream",
     "text": [
      " Results of Monte Carlo uncertainty calculation\n",
      "\n",
      "        Attributes:\n",
      "            uncertainty (dict): Computed standard uncertainties for each model function\n",
      "            expected (dict): Computed expected/mean values for each model function\n",
      "            samples (dict): Random samples calculated for each model function\n",
      "            varsamples (dict): Random samples generated for each input variable\n",
      "            variables (tuple): Information about the input variables and uncertainties\n",
      "            warns (list): Any warnings generated during the calculation\n",
      "            descriptions (dict): Descriptions of model functions\n",
      "            tolerances (dict): Tolerances for each function\n",
      "            p_conform (dict): Probability of conformance with tolerance\n",
      "            report (Report): Generate formatted reports of the results\n",
      "\n",
      "        Methods:\n",
      "            units: Convert the units of uncertainty and expected\n",
      "            expand: Expand the uncertainty of a single function\n",
      "            expanded: Get dictionary of expanded uncertainties for all model functions\n",
      "            expect: Get a single expected value\n",
      "            sensitivity: Calculate sensitivity coefficients and proportions\n",
      "            correlation: Calculation correlation between model functions\n",
      "    \n"
     ]
    }
   ],
   "source": [
    "results = model.monte_carlo()\n",
    "print(results.__doc__)"
   ]
  },
  {
   "cell_type": "code",
   "execution_count": 16,
   "id": "ef38b7f9",
   "metadata": {},
   "outputs": [
    {
     "data": {
      "text/plain": [
       "array([50.02558219, 49.62057225, 49.87813274, ..., 50.11988678,\n",
       "       49.56863088, 50.15488869])"
      ]
     },
     "execution_count": 16,
     "metadata": {},
     "output_type": "execute_result"
    }
   ],
   "source": [
    "results.samples['R']"
   ]
  },
  {
   "cell_type": "code",
   "execution_count": 17,
   "id": "a6567982",
   "metadata": {},
   "outputs": [
    {
     "data": {
      "text/plain": [
       "array([ 99.96884274,  99.13585178,  99.90961806, ..., 100.15752259,\n",
       "        99.13751951, 100.39294478])"
      ]
     },
     "execution_count": 17,
     "metadata": {},
     "output_type": "execute_result"
    }
   ],
   "source": [
    "results.varsamples['V']"
   ]
  },
  {
   "cell_type": "markdown",
   "id": "ddd58db9",
   "metadata": {},
   "source": [
    "## Reports"
   ]
  },
  {
   "cell_type": "markdown",
   "id": "34ca9a07",
   "metadata": {},
   "source": [
    "The result objects contain a `Report` instance that is used to generate formatted reports and plots. `summary()` is the default report:"
   ]
  },
  {
   "cell_type": "code",
   "execution_count": 18,
   "id": "faa8843f",
   "metadata": {},
   "outputs": [
    {
     "data": {
      "text/html": [
       "<!DOCTYPE html><html lang=\"en\">\n",
       "<head>\n",
       "<style type=\"text/css\">\n",
       "\n",
       "body {\n",
       "  font-family: sans-serif;\n",
       "  font-size: 16px;\n",
       "  line-height: 1.7;\n",
       "  padding: 1em;\n",
       "  margin: auto;\n",
       "  max-width: 56em;\n",
       "}\n",
       "\n",
       "a {\n",
       "  color: #0645ad;\n",
       "  text-decoration: none;\n",
       "}\n",
       "\n",
       "a:visited {\n",
       "  color: #0b0080;\n",
       "}\n",
       "\n",
       "a:hover {\n",
       "  color: #06e;\n",
       "}\n",
       "\n",
       "a:active {\n",
       "  color: #7c4ca8;\n",
       "}\n",
       "\n",
       "a:focus {\n",
       "  outline: thin dotted;\n",
       "}\n",
       "\n",
       "*::selection {\n",
       "  background: rgba(0, 89, 255, 0.3);\n",
       "  color: #000;\n",
       "}\n",
       "\n",
       "p {\n",
       "  font-family: sans-serif;\n",
       "  margin: 1em 0;\n",
       "}\n",
       "\n",
       "img {\n",
       "  max-width: 100%;\n",
       "}\n",
       "\n",
       "h1, h2, h3, h4, h5, h6 {\n",
       "  font-family: sans-serif;\n",
       "  line-height: 125%;\n",
       "  margin-top: 2em;\n",
       "  font-weight: normal;\n",
       "}\n",
       "\n",
       "h4, h5, h6 {\n",
       "  font-weight: bold;\n",
       "}\n",
       "\n",
       "h1 {\n",
       "  font-size: 2.5em;\n",
       "}\n",
       "\n",
       "h2 {\n",
       "  font-size: 2em;\n",
       "}\n",
       "\n",
       "h3 {\n",
       "  font-size: 1.5em;\n",
       "}\n",
       "\n",
       "h4 {\n",
       "  font-size: 1.2em;\n",
       "}\n",
       "\n",
       "h5 {\n",
       "  font-size: 1em;\n",
       "}\n",
       "\n",
       "h6 {\n",
       "  font-size: 0.9em;\n",
       "}\n",
       "\n",
       "table {\n",
       "    margin: 10px 5px;\n",
       "    border-collapse: collapse;\n",
       " }\n",
       "\n",
       "th {\n",
       "    background-color: #eee;\n",
       "    font-weight: bold;\n",
       "}\n",
       "\n",
       "th, td {\n",
       "    border: 1px solid lightgray;\n",
       "    padding: .2em 1em;\n",
       "}\n",
       "</style><script>\n",
       "  MathJax = {\n",
       "    tex: {\n",
       "      inlineMath: [['$', '$'], ['\\\\(', '\\\\)']]\n",
       "    },\n",
       "    svg: {\n",
       "      fontCache: 'global',\n",
       "      scale: 1.3\n",
       "    }\n",
       "  };\n",
       "  </script>\n",
       "  <script type=\"text/javascript\" id=\"MathJax-script\" async\n",
       "    src=\"https://cdn.jsdelivr.net/npm/mathjax@3/es5/tex-svg.js\">\n",
       "</script>\n",
       "</head>\n",
       "<body>\n",
       "<table>\n",
       "<thead>\n",
       "<tr>\n",
       "<th>Function</th>\n",
       "<th>Method</th>\n",
       "<th>Nominal</th>\n",
       "<th>Std. Uncertainty</th>\n",
       "<th>95% Coverage</th>\n",
       "<th>k</th>\n",
       "<th>Deg. Freedom</th>\n",
       "</tr>\n",
       "</thead>\n",
       "<tbody>\n",
       "<tr>\n",
       "<td>$R$</td>\n",
       "<td>GUM</td>\n",
       "<td>50.00</td>\n",
       "<td>0.28</td>\n",
       "<td>&#177; 0.55</td>\n",
       "<td>1.960</td>\n",
       "<td>inf</td>\n",
       "</tr>\n",
       "<tr>\n",
       "<td>$R$</td>\n",
       "<td>Monte Carlo</td>\n",
       "<td>50.00</td>\n",
       "<td>0.28</td>\n",
       "<td>(49.45, 50.55)</td>\n",
       "<td>1.958</td>\n",
       "<td>&nbsp;</td>\n",
       "</tr>\n",
       "</tbody>\n",
       "</table>\n",
       "</body>\n",
       "</html>"
      ],
      "text/markdown": [
       "|Function   | Method       | Nominal   | Std. Uncertainty   | 95% Coverage   | k         | Deg. Freedom  |\n",
       "|----------|------------|---------|------------------|--------------|---------|--------------|\n",
       "|$R$   | GUM          | 50.00  | 0.28           | ± 0.55     | 1.960     | inf           |\n",
       "|$R$   | Monte Carlo  | 50.00  | 0.28           | (49.45, 50.55) | 1.958     | &nbsp;        |"
      ],
      "text/plain": [
       "<suncal.common.report.Report at 0x192300cc050>"
      ]
     },
     "execution_count": 18,
     "metadata": {},
     "output_type": "execute_result"
    }
   ],
   "source": [
    "results = model.calculate()\n",
    "results.report.summary()"
   ]
  },
  {
   "cell_type": "markdown",
   "id": "abedd25c",
   "metadata": {},
   "source": [
    "Other reports may be generated using other methods:"
   ]
  },
  {
   "cell_type": "code",
   "execution_count": 19,
   "id": "48bbd8fa",
   "metadata": {},
   "outputs": [
    {
     "data": {
      "text/html": [
       "<!DOCTYPE html><html lang=\"en\">\n",
       "<head>\n",
       "<style type=\"text/css\">\n",
       "\n",
       "body {\n",
       "  font-family: sans-serif;\n",
       "  font-size: 16px;\n",
       "  line-height: 1.7;\n",
       "  padding: 1em;\n",
       "  margin: auto;\n",
       "  max-width: 56em;\n",
       "}\n",
       "\n",
       "a {\n",
       "  color: #0645ad;\n",
       "  text-decoration: none;\n",
       "}\n",
       "\n",
       "a:visited {\n",
       "  color: #0b0080;\n",
       "}\n",
       "\n",
       "a:hover {\n",
       "  color: #06e;\n",
       "}\n",
       "\n",
       "a:active {\n",
       "  color: #7c4ca8;\n",
       "}\n",
       "\n",
       "a:focus {\n",
       "  outline: thin dotted;\n",
       "}\n",
       "\n",
       "*::selection {\n",
       "  background: rgba(0, 89, 255, 0.3);\n",
       "  color: #000;\n",
       "}\n",
       "\n",
       "p {\n",
       "  font-family: sans-serif;\n",
       "  margin: 1em 0;\n",
       "}\n",
       "\n",
       "img {\n",
       "  max-width: 100%;\n",
       "}\n",
       "\n",
       "h1, h2, h3, h4, h5, h6 {\n",
       "  font-family: sans-serif;\n",
       "  line-height: 125%;\n",
       "  margin-top: 2em;\n",
       "  font-weight: normal;\n",
       "}\n",
       "\n",
       "h4, h5, h6 {\n",
       "  font-weight: bold;\n",
       "}\n",
       "\n",
       "h1 {\n",
       "  font-size: 2.5em;\n",
       "}\n",
       "\n",
       "h2 {\n",
       "  font-size: 2em;\n",
       "}\n",
       "\n",
       "h3 {\n",
       "  font-size: 1.5em;\n",
       "}\n",
       "\n",
       "h4 {\n",
       "  font-size: 1.2em;\n",
       "}\n",
       "\n",
       "h5 {\n",
       "  font-size: 1em;\n",
       "}\n",
       "\n",
       "h6 {\n",
       "  font-size: 0.9em;\n",
       "}\n",
       "\n",
       "table {\n",
       "    margin: 10px 5px;\n",
       "    border-collapse: collapse;\n",
       " }\n",
       "\n",
       "th {\n",
       "    background-color: #eee;\n",
       "    font-weight: bold;\n",
       "}\n",
       "\n",
       "th, td {\n",
       "    border: 1px solid lightgray;\n",
       "    padding: .2em 1em;\n",
       "}\n",
       "</style><script>\n",
       "  MathJax = {\n",
       "    tex: {\n",
       "      inlineMath: [['$', '$'], ['\\\\(', '\\\\)']]\n",
       "    },\n",
       "    svg: {\n",
       "      fontCache: 'global',\n",
       "      scale: 1.3\n",
       "    }\n",
       "  };\n",
       "  </script>\n",
       "  <script type=\"text/javascript\" id=\"MathJax-script\" async\n",
       "    src=\"https://cdn.jsdelivr.net/npm/mathjax@3/es5/tex-svg.js\">\n",
       "</script>\n",
       "</head>\n",
       "<body>\n",
       "<h3>GUM Approximation</h3>\n",
       "<table>\n",
       "<thead>\n",
       "<tr>\n",
       "<th>Function</th>\n",
       "<th>Level of Confidence</th>\n",
       "<th>Minimum</th>\n",
       "<th>Maximum</th>\n",
       "<th>k</th>\n",
       "<th>Deg. Freedom</th>\n",
       "<th>Expanded Uncertainty</th>\n",
       "</tr>\n",
       "</thead>\n",
       "<tbody>\n",
       "<tr>\n",
       "<td>$R$</td>\n",
       "<td>95.00%</td>\n",
       "<td>49.45</td>\n",
       "<td>50.55</td>\n",
       "<td>1.960</td>\n",
       "<td>inf</td>\n",
       "<td>0.55</td>\n",
       "</tr>\n",
       "</tbody>\n",
       "</table>\n",
       "<h3>Monte Carlo</h3>\n",
       "<p>Symmetric Coverage Intervals</p>\n",
       "<table>\n",
       "<thead>\n",
       "<tr>\n",
       "<th>Function</th>\n",
       "<th>Level of Confidence</th>\n",
       "<th>Minimum</th>\n",
       "<th>Maximum</th>\n",
       "<th>Coverage Factor</th>\n",
       "</tr>\n",
       "</thead>\n",
       "<tbody>\n",
       "<tr>\n",
       "<td>$R$</td>\n",
       "<td>95.00%</td>\n",
       "<td>49.45</td>\n",
       "<td>50.55</td>\n",
       "<td>1.958</td>\n",
       "</tr>\n",
       "</tbody>\n",
       "</table>\n",
       "</body>\n",
       "</html>"
      ],
      "text/markdown": [
       "### GUM Approximation\n",
       "\n",
       "\n",
       "|Function   | Level of Confidence   | Minimum   | Maximum   | k         | Deg. Freedom   | Expanded Uncertainty  |\n",
       "|----------|---------------------|---------|---------|---------|--------------|----------------------|\n",
       "|$R$   | 95.00%                | 49.45  | 50.55  | 1.960     | inf            | 0.55              |\n",
       "\n",
       "\n",
       "### Monte Carlo\n",
       "\n",
       "Symmetric Coverage Intervals\n",
       "\n",
       "|Function   | Level of Confidence   | Minimum   | Maximum   | Coverage Factor  |\n",
       "|----------|---------------------|---------|---------|-----------------|\n",
       "|$R$   | 95.00%                | 49.45  | 50.55  | 1.958            |"
      ],
      "text/plain": [
       "<suncal.common.report.Report at 0x1922c994d40>"
      ]
     },
     "execution_count": 19,
     "metadata": {},
     "output_type": "execute_result"
    }
   ],
   "source": [
    "results.report.expanded()"
   ]
  },
  {
   "cell_type": "code",
   "execution_count": 20,
   "id": "85212a61",
   "metadata": {},
   "outputs": [
    {
     "data": {
      "text/html": [
       "<!DOCTYPE html><html lang=\"en\">\n",
       "<head>\n",
       "<style type=\"text/css\">\n",
       "\n",
       "body {\n",
       "  font-family: sans-serif;\n",
       "  font-size: 16px;\n",
       "  line-height: 1.7;\n",
       "  padding: 1em;\n",
       "  margin: auto;\n",
       "  max-width: 56em;\n",
       "}\n",
       "\n",
       "a {\n",
       "  color: #0645ad;\n",
       "  text-decoration: none;\n",
       "}\n",
       "\n",
       "a:visited {\n",
       "  color: #0b0080;\n",
       "}\n",
       "\n",
       "a:hover {\n",
       "  color: #06e;\n",
       "}\n",
       "\n",
       "a:active {\n",
       "  color: #7c4ca8;\n",
       "}\n",
       "\n",
       "a:focus {\n",
       "  outline: thin dotted;\n",
       "}\n",
       "\n",
       "*::selection {\n",
       "  background: rgba(0, 89, 255, 0.3);\n",
       "  color: #000;\n",
       "}\n",
       "\n",
       "p {\n",
       "  font-family: sans-serif;\n",
       "  margin: 1em 0;\n",
       "}\n",
       "\n",
       "img {\n",
       "  max-width: 100%;\n",
       "}\n",
       "\n",
       "h1, h2, h3, h4, h5, h6 {\n",
       "  font-family: sans-serif;\n",
       "  line-height: 125%;\n",
       "  margin-top: 2em;\n",
       "  font-weight: normal;\n",
       "}\n",
       "\n",
       "h4, h5, h6 {\n",
       "  font-weight: bold;\n",
       "}\n",
       "\n",
       "h1 {\n",
       "  font-size: 2.5em;\n",
       "}\n",
       "\n",
       "h2 {\n",
       "  font-size: 2em;\n",
       "}\n",
       "\n",
       "h3 {\n",
       "  font-size: 1.5em;\n",
       "}\n",
       "\n",
       "h4 {\n",
       "  font-size: 1.2em;\n",
       "}\n",
       "\n",
       "h5 {\n",
       "  font-size: 1em;\n",
       "}\n",
       "\n",
       "h6 {\n",
       "  font-size: 0.9em;\n",
       "}\n",
       "\n",
       "table {\n",
       "    margin: 10px 5px;\n",
       "    border-collapse: collapse;\n",
       " }\n",
       "\n",
       "th {\n",
       "    background-color: #eee;\n",
       "    font-weight: bold;\n",
       "}\n",
       "\n",
       "th, td {\n",
       "    border: 1px solid lightgray;\n",
       "    padding: .2em 1em;\n",
       "}\n",
       "</style><script>\n",
       "  MathJax = {\n",
       "    tex: {\n",
       "      inlineMath: [['$', '$'], ['\\\\(', '\\\\)']]\n",
       "    },\n",
       "    svg: {\n",
       "      fontCache: 'global',\n",
       "      scale: 1.3\n",
       "    }\n",
       "  };\n",
       "  </script>\n",
       "  <script type=\"text/javascript\" id=\"MathJax-script\" async\n",
       "    src=\"https://cdn.jsdelivr.net/npm/mathjax@3/es5/tex-svg.js\">\n",
       "</script>\n",
       "</head>\n",
       "<body>\n",
       "<table>\n",
       "<thead>\n",
       "<tr>\n",
       "<th>Variable</th>\n",
       "<th>GUM Sensitivity</th>\n",
       "<th>GUM Proportion</th>\n",
       "<th>MC Sensitivity</th>\n",
       "<th>MC Proportion</th>\n",
       "</tr>\n",
       "</thead>\n",
       "<tbody>\n",
       "<tr>\n",
       "<td>$I$</td>\n",
       "<td>-25.0</td>\n",
       "<td>20.00%</td>\n",
       "<td>25.0</td>\n",
       "<td>20.09%</td>\n",
       "</tr>\n",
       "<tr>\n",
       "<td>$V$</td>\n",
       "<td>0.50</td>\n",
       "<td>80.00%</td>\n",
       "<td>0.50</td>\n",
       "<td>80.05%</td>\n",
       "</tr>\n",
       "</tbody>\n",
       "</table>\n",
       "</body>\n",
       "</html>"
      ],
      "text/markdown": [
       "|Variable   | GUM Sensitivity   | GUM Proportion   | MC Sensitivity   | MC Proportion  |\n",
       "|----------|-----------------|----------------|----------------|---------------|\n",
       "|$I$   | -25.0          | 20.00%           | 25.0         | 20.09%         |\n",
       "|$V$   | 0.50          | 80.00%           | 0.50         | 80.05%         |"
      ],
      "text/plain": [
       "<suncal.common.report.Report at 0x1922f1b0800>"
      ]
     },
     "execution_count": 20,
     "metadata": {},
     "output_type": "execute_result"
    }
   ],
   "source": [
    "results.report.sensitivity()"
   ]
  },
  {
   "cell_type": "code",
   "execution_count": 21,
   "id": "0e5b7da3",
   "metadata": {},
   "outputs": [
    {
     "data": {
      "text/html": [
       "<!DOCTYPE html><html lang=\"en\">\n",
       "<head>\n",
       "<style type=\"text/css\">\n",
       "\n",
       "body {\n",
       "  font-family: sans-serif;\n",
       "  font-size: 16px;\n",
       "  line-height: 1.7;\n",
       "  padding: 1em;\n",
       "  margin: auto;\n",
       "  max-width: 56em;\n",
       "}\n",
       "\n",
       "a {\n",
       "  color: #0645ad;\n",
       "  text-decoration: none;\n",
       "}\n",
       "\n",
       "a:visited {\n",
       "  color: #0b0080;\n",
       "}\n",
       "\n",
       "a:hover {\n",
       "  color: #06e;\n",
       "}\n",
       "\n",
       "a:active {\n",
       "  color: #7c4ca8;\n",
       "}\n",
       "\n",
       "a:focus {\n",
       "  outline: thin dotted;\n",
       "}\n",
       "\n",
       "*::selection {\n",
       "  background: rgba(0, 89, 255, 0.3);\n",
       "  color: #000;\n",
       "}\n",
       "\n",
       "p {\n",
       "  font-family: sans-serif;\n",
       "  margin: 1em 0;\n",
       "}\n",
       "\n",
       "img {\n",
       "  max-width: 100%;\n",
       "}\n",
       "\n",
       "h1, h2, h3, h4, h5, h6 {\n",
       "  font-family: sans-serif;\n",
       "  line-height: 125%;\n",
       "  margin-top: 2em;\n",
       "  font-weight: normal;\n",
       "}\n",
       "\n",
       "h4, h5, h6 {\n",
       "  font-weight: bold;\n",
       "}\n",
       "\n",
       "h1 {\n",
       "  font-size: 2.5em;\n",
       "}\n",
       "\n",
       "h2 {\n",
       "  font-size: 2em;\n",
       "}\n",
       "\n",
       "h3 {\n",
       "  font-size: 1.5em;\n",
       "}\n",
       "\n",
       "h4 {\n",
       "  font-size: 1.2em;\n",
       "}\n",
       "\n",
       "h5 {\n",
       "  font-size: 1em;\n",
       "}\n",
       "\n",
       "h6 {\n",
       "  font-size: 0.9em;\n",
       "}\n",
       "\n",
       "table {\n",
       "    margin: 10px 5px;\n",
       "    border-collapse: collapse;\n",
       " }\n",
       "\n",
       "th {\n",
       "    background-color: #eee;\n",
       "    font-weight: bold;\n",
       "}\n",
       "\n",
       "th, td {\n",
       "    border: 1px solid lightgray;\n",
       "    padding: .2em 1em;\n",
       "}\n",
       "</style><script>\n",
       "  MathJax = {\n",
       "    tex: {\n",
       "      inlineMath: [['$', '$'], ['\\\\(', '\\\\)']]\n",
       "    },\n",
       "    svg: {\n",
       "      fontCache: 'global',\n",
       "      scale: 1.3\n",
       "    }\n",
       "  };\n",
       "  </script>\n",
       "  <script type=\"text/javascript\" id=\"MathJax-script\" async\n",
       "    src=\"https://cdn.jsdelivr.net/npm/mathjax@3/es5/tex-svg.js\">\n",
       "</script>\n",
       "</head>\n",
       "<body>\n",
       "<table>\n",
       "<thead>\n",
       "<tr>\n",
       "<th>Variable</th>\n",
       "<th>Component</th>\n",
       "<th>Standard Uncertainty</th>\n",
       "<th>Deg. Freedom</th>\n",
       "<th>Description</th>\n",
       "</tr>\n",
       "</thead>\n",
       "<tbody>\n",
       "<tr>\n",
       "<td>$I$</td>\n",
       "<td>&nbsp;</td>\n",
       "<td>&nbsp;</td>\n",
       "<td>&nbsp;</td>\n",
       "<td></td>\n",
       "</tr>\n",
       "<tr>\n",
       "<td>&nbsp;</td>\n",
       "<td>Type B</td>\n",
       "<td>0.0050</td>\n",
       "<td>inf</td>\n",
       "<td></td>\n",
       "</tr>\n",
       "<tr>\n",
       "<td>$V$</td>\n",
       "<td>&nbsp;</td>\n",
       "<td>&nbsp;</td>\n",
       "<td>&nbsp;</td>\n",
       "<td></td>\n",
       "</tr>\n",
       "<tr>\n",
       "<td>&nbsp;</td>\n",
       "<td>Type B</td>\n",
       "<td>0.50</td>\n",
       "<td>inf</td>\n",
       "<td></td>\n",
       "</tr>\n",
       "</tbody>\n",
       "</table>\n",
       "</body>\n",
       "</html>"
      ],
      "text/markdown": [
       "|Variable   | Component   | Standard Uncertainty   | Deg. Freedom   | Description  |\n",
       "|----------|-----------|----------------------|--------------|-------------|\n",
       "|$I$   | &nbsp;      | &nbsp;                 | &nbsp;         |              |\n",
       "|&nbsp;     | Type B      | 0.0050               | inf       |              |\n",
       "|$V$   | &nbsp;      | &nbsp;                 | &nbsp;         |              |\n",
       "|&nbsp;     | Type B      | 0.50               | inf       |              |"
      ],
      "text/plain": [
       "<suncal.common.report.Report at 0x1923008b4d0>"
      ]
     },
     "execution_count": 21,
     "metadata": {},
     "output_type": "execute_result"
    }
   ],
   "source": [
    "results.report.variables.components()"
   ]
  },
  {
   "cell_type": "markdown",
   "id": "577700b2",
   "metadata": {},
   "source": [
    "The `report` contains a `plot` instance for generating plots, using Matplotlib:"
   ]
  },
  {
   "cell_type": "code",
   "execution_count": 22,
   "id": "404eb5f9",
   "metadata": {},
   "outputs": [
    {
     "data": {
      "image/png": "[encoded data removed]",
      "text/plain": [
       "<Figure size 640x480 with 1 Axes>"
      ]
     },
     "metadata": {
      "needs_background": "light"
     },
     "output_type": "display_data"
    }
   ],
   "source": [
    "results.report.plot.pdf()"
   ]
  },
  {
   "cell_type": "markdown",
   "id": "c9a4853f",
   "metadata": {},
   "source": [
    "Separate reports for the GUM and Monte Carlo results can access other information."
   ]
  },
  {
   "cell_type": "code",
   "execution_count": 23,
   "id": "a75b81a3",
   "metadata": {},
   "outputs": [
    {
     "data": {
      "text/html": [
       "<!DOCTYPE html><html lang=\"en\">\n",
       "<head>\n",
       "<style type=\"text/css\">\n",
       "\n",
       "body {\n",
       "  font-family: sans-serif;\n",
       "  font-size: 16px;\n",
       "  line-height: 1.7;\n",
       "  padding: 1em;\n",
       "  margin: auto;\n",
       "  max-width: 56em;\n",
       "}\n",
       "\n",
       "a {\n",
       "  color: #0645ad;\n",
       "  text-decoration: none;\n",
       "}\n",
       "\n",
       "a:visited {\n",
       "  color: #0b0080;\n",
       "}\n",
       "\n",
       "a:hover {\n",
       "  color: #06e;\n",
       "}\n",
       "\n",
       "a:active {\n",
       "  color: #7c4ca8;\n",
       "}\n",
       "\n",
       "a:focus {\n",
       "  outline: thin dotted;\n",
       "}\n",
       "\n",
       "*::selection {\n",
       "  background: rgba(0, 89, 255, 0.3);\n",
       "  color: #000;\n",
       "}\n",
       "\n",
       "p {\n",
       "  font-family: sans-serif;\n",
       "  margin: 1em 0;\n",
       "}\n",
       "\n",
       "img {\n",
       "  max-width: 100%;\n",
       "}\n",
       "\n",
       "h1, h2, h3, h4, h5, h6 {\n",
       "  font-family: sans-serif;\n",
       "  line-height: 125%;\n",
       "  margin-top: 2em;\n",
       "  font-weight: normal;\n",
       "}\n",
       "\n",
       "h4, h5, h6 {\n",
       "  font-weight: bold;\n",
       "}\n",
       "\n",
       "h1 {\n",
       "  font-size: 2.5em;\n",
       "}\n",
       "\n",
       "h2 {\n",
       "  font-size: 2em;\n",
       "}\n",
       "\n",
       "h3 {\n",
       "  font-size: 1.5em;\n",
       "}\n",
       "\n",
       "h4 {\n",
       "  font-size: 1.2em;\n",
       "}\n",
       "\n",
       "h5 {\n",
       "  font-size: 1em;\n",
       "}\n",
       "\n",
       "h6 {\n",
       "  font-size: 0.9em;\n",
       "}\n",
       "\n",
       "table {\n",
       "    margin: 10px 5px;\n",
       "    border-collapse: collapse;\n",
       " }\n",
       "\n",
       "th {\n",
       "    background-color: #eee;\n",
       "    font-weight: bold;\n",
       "}\n",
       "\n",
       "th, td {\n",
       "    border: 1px solid lightgray;\n",
       "    padding: .2em 1em;\n",
       "}\n",
       "</style><script>\n",
       "  MathJax = {\n",
       "    tex: {\n",
       "      inlineMath: [['$', '$'], ['\\\\(', '\\\\)']]\n",
       "    },\n",
       "    svg: {\n",
       "      fontCache: 'global',\n",
       "      scale: 1.3\n",
       "    }\n",
       "  };\n",
       "  </script>\n",
       "  <script type=\"text/javascript\" id=\"MathJax-script\" async\n",
       "    src=\"https://cdn.jsdelivr.net/npm/mathjax@3/es5/tex-svg.js\">\n",
       "</script>\n",
       "</head>\n",
       "<body>\n",
       "<h3>Measurement Model:</h3>\n",
       "<p>$R = \\frac{V}{I}$</p>\n",
       "<h3>Measured Values:</h3>\n",
       "<table>\n",
       "<thead>\n",
       "<tr>\n",
       "<th>Variable</th>\n",
       "<th>Std. Uncertainty</th>\n",
       "<th>Deg. Freedom</th>\n",
       "</tr>\n",
       "</thead>\n",
       "<tbody>\n",
       "<tr>\n",
       "<td>$I$</td>\n",
       "<td>$u_{I}$</td>\n",
       "<td>$\\nu_{I}$</td>\n",
       "</tr>\n",
       "<tr>\n",
       "<td>$V$</td>\n",
       "<td>$u_{V}$</td>\n",
       "<td>$\\nu_{V}$</td>\n",
       "</tr>\n",
       "</tbody>\n",
       "</table>\n",
       "<h3>Sensitivity Coefficients</h3>\n",
       "<p>$\\frac{d}{d I} R = - \\frac{V}{I^{2}}$</p>\n",
       "<p>$\\frac{d}{d V} R = \\frac{1}{I}$</p>\n",
       "<h3>Combined Uncertainty:</h3>\n",
       "<p>$u_{R} = \\sqrt{\\frac{u_{V}^{2}}{I^{2}} + \\frac{V^{2} u_{I}^{2}}{I^{4}}}$</p>\n",
       "<h3>Effective degrees of freedom:</h3>\n",
       "<p>$\\nu_{R} = \\frac{u_{R}^{4}}{\\frac{u_{V}^{4}}{I^{4} \\nu_{V}} + \\frac{V^{4} u_{I}^{4}}{I^{8} \\nu_{I}}}$</p>\n",
       "</body>\n",
       "</html>"
      ],
      "text/markdown": [
       "### Measurement Model:\n",
       "\n",
       "$R = \\frac{V}{I}$\n",
       "\n",
       "### Measured Values:\n",
       "\n",
       "\n",
       "|Variable   | Std. Uncertainty   | Deg. Freedom  |\n",
       "|----------|------------------|--------------|\n",
       "|$I$   | $u_{I}$           | $\\nu_{I}$      |\n",
       "|$V$   | $u_{V}$           | $\\nu_{V}$      |\n",
       "\n",
       "\n",
       "### Sensitivity Coefficients\n",
       "\n",
       "$\\frac{d}{d I} R = - \\frac{V}{I^{2}}$\n",
       "\n",
       "$\\frac{d}{d V} R = \\frac{1}{I}$\n",
       "\n",
       "### Combined Uncertainty:\n",
       "\n",
       "$u_{R} = \\sqrt{\\frac{u_{V}^{2}}{I^{2}} + \\frac{V^{2} u_{I}^{2}}{I^{4}}}$\n",
       "\n",
       "### Effective degrees of freedom:\n",
       "\n",
       "$\\nu_{R} = \\frac{u_{R}^{4}}{\\frac{u_{V}^{4}}{I^{4} \\nu_{V}} + \\frac{V^{4} u_{I}^{4}}{I^{8} \\nu_{I}}}$"
      ],
      "text/plain": [
       "<suncal.common.report.Report at 0x1923008bd70>"
      ]
     },
     "execution_count": 23,
     "metadata": {},
     "output_type": "execute_result"
    }
   ],
   "source": [
    "results.gum.report.derivation()"
   ]
  },
  {
   "cell_type": "code",
   "execution_count": 24,
   "id": "a76a401c",
   "metadata": {},
   "outputs": [
    {
     "data": {
      "image/png": "[encoded data removed]",
      "text/plain": [
       "<Figure size 640x480 with 2 Axes>"
      ]
     },
     "metadata": {
      "needs_background": "light"
     },
     "output_type": "display_data"
    }
   ],
   "source": [
    "results.montecarlo.report.plot.converge()"
   ]
  },
  {
   "cell_type": "markdown",
   "id": "2d522cae",
   "metadata": {},
   "source": [
    "Use the `help` function or class docstrings to explore all the available reports."
   ]
  },
  {
   "cell_type": "markdown",
   "id": "79a50a1c",
   "metadata": {},
   "source": [
    "## Measurement Units\n",
    "\n",
    "Suncal can handle calculations with measurement units. To define units, either supply Pint Quantities (using the Pint Python library), or supply unit names as strings (which will be converted to Pint quantities internally. The Type B uncertainties inherit units from the measured value, if not supplied separately.\n",
    "\n",
    "Pint requires all calculations use the same \"Unit Registry\", so when supplying values as Pint Quantities, use the unit registry defined by suncal: `suncal.ureg`."
   ]
  },
  {
   "cell_type": "code",
   "execution_count": 25,
   "id": "e8b42e6b",
   "metadata": {},
   "outputs": [
    {
     "data": {
      "text/markdown": [
       "|Function   | Method       | Nominal   | Std. Uncertainty   | 95% Coverage   | k         | Deg. Freedom  |\n",
       "|----------|------------|---------|------------------|--------------|---------|--------------|\n",
       "|$R$   | GUM          | 50.00 V/A  | 0.28 V/A           | ± 0.55 V/A     | 1.960     | inf           |\n",
       "|$R$   | Monte Carlo  | 50.00 V/A  | 0.28 V/A           | (49.45 V/A, 50.55 V/A) | 1.959     | &nbsp;        |"
      ],
      "text/plain": [
       "UncertaintyResults(gum=<suncal.uncertainty.results.gum.GumResults object at 0x00000192345F7590>, montecarlo=<suncal.uncertainty.results.monte.McResults object at 0x00000192345D0B00>)"
      ]
     },
     "execution_count": 25,
     "metadata": {},
     "output_type": "execute_result"
    }
   ],
   "source": [
    "model = suncal.Model('R = V/I')\n",
    "model.var('V').measure(100, units='volts').typeb(unc=1, k=2)\n",
    "model.var('I').measure(2, units='ampere').typeb(unc=.01, k=2)\n",
    "result = model.calculate()\n",
    "result"
   ]
  },
  {
   "cell_type": "code",
   "execution_count": 26,
   "id": "0e85ba30",
   "metadata": {},
   "outputs": [
    {
     "data": {
      "text/markdown": [
       "|Function   | Method       | Nominal   | Std. Uncertainty   | 95% Coverage   | k         | Deg. Freedom  |\n",
       "|----------|------------|---------|------------------|--------------|---------|--------------|\n",
       "|$R$   | GUM          | 50.00 V/A  | 0.28 V/A           | ± 0.55 V/A     | 1.960     | inf           |\n",
       "|$R$   | Monte Carlo  | 50.00 V/A  | 0.28 V/A           | (49.45 V/A, 50.55 V/A) | 1.959     | &nbsp;        |"
      ],
      "text/plain": [
       "UncertaintyResults(gum=<suncal.uncertainty.results.gum.GumResults object at 0x00000192345F5A30>, montecarlo=<suncal.uncertainty.results.monte.McResults object at 0x0000019234254DA0>)"
      ]
     },
     "execution_count": 26,
     "metadata": {},
     "output_type": "execute_result"
    }
   ],
   "source": [
    "model = suncal.Model('R = V/I')\n",
    "model.var('V').measure(100*suncal.ureg.volts).typeb(unc=1, k=2)\n",
    "model.var('I').measure(2*suncal.ureg.ampere).typeb(unc=.01, k=2)\n",
    "result = model.calculate()\n",
    "result"
   ]
  },
  {
   "cell_type": "markdown",
   "id": "fe23af6a",
   "metadata": {},
   "source": [
    "Notice the results are in units of volts/ampere, while you were probably expecting Ohms. Suncal (and Pint) don't have any unambiguous way of determining whether to convert units to something else, so they come out in the \"natural\" units of the calculation. The result object has a `units` method to define other compatible units to display. It takes keyword arguments of the function name and a string defining the unit. This way, units of the output results may be converted without re-running the calculation."
   ]
  },
  {
   "cell_type": "code",
   "execution_count": 27,
   "id": "7a03700e",
   "metadata": {},
   "outputs": [
    {
     "data": {
      "text/markdown": [
       "|Function   | Method       | Nominal   | Std. Uncertainty   | 95% Coverage   | k         | Deg. Freedom  |\n",
       "|----------|------------|---------|------------------|--------------|---------|--------------|\n",
       "|$R$   | GUM          | 50.00 Ω  | 0.28 Ω           | ± 0.55 Ω     | 1.960     | inf           |\n",
       "|$R$   | Monte Carlo  | 50.00 Ω  | 0.28 Ω           | (49.45 Ω, 50.55 Ω) | 1.959     | &nbsp;        |"
      ],
      "text/plain": [
       "UncertaintyResults(gum=<suncal.uncertainty.results.gum.GumResults object at 0x00000192345F5A30>, montecarlo=<suncal.uncertainty.results.monte.McResults object at 0x0000019234254DA0>)"
      ]
     },
     "execution_count": 27,
     "metadata": {},
     "output_type": "execute_result"
    }
   ],
   "source": [
    "result.units(R='ohm')"
   ]
  },
  {
   "cell_type": "markdown",
   "id": "c5583577",
   "metadata": {},
   "source": [
    "## Joint Models\n",
    "\n",
    "The `Model` class takes one or more string expressions as arguments, each defining one function of the model. For example, the resistance model used above may be extended to compute resistance and power simultaneously. The result and reports will have functions for viewing joint probability and correlations between the functions."
   ]
  },
  {
   "cell_type": "code",
   "execution_count": 28,
   "id": "d6b3f6c4",
   "metadata": {},
   "outputs": [
    {
     "data": {
      "text/markdown": [
       "|Function   | Method       | Nominal   | Std. Uncertainty   | 95% Coverage   | k         | Deg. Freedom  |\n",
       "|----------|------------|---------|------------------|--------------|---------|--------------|\n",
       "|$R$   | GUM          | 50.00 Ω  | 0.28 Ω           | ± 0.55 Ω     | 1.960     | inf           |\n",
       "|$R$   | Monte Carlo  | 50.00 Ω  | 0.28 Ω           | (49.45 Ω, 50.55 Ω) | 1.960     | &nbsp;        |\n",
       "|$P$   | GUM          | 200.0 W  | 1.1 W           | ± 2.2 W     | 1.960     | inf           |\n",
       "|$P$   | Monte Carlo  | 200.0 W | 1.1 W          | (197.8 W, 202.2 W) | 1.960     | &nbsp;        |"
      ],
      "text/plain": [
       "UncertaintyResults(gum=<suncal.uncertainty.results.gum.GumResults object at 0x00000192341BCF80>, montecarlo=<suncal.uncertainty.results.monte.McResults object at 0x00000192345859A0>)"
      ]
     },
     "execution_count": 28,
     "metadata": {},
     "output_type": "execute_result"
    }
   ],
   "source": [
    "model = suncal.Model('R = V/I', 'P = V*I')\n",
    "model.var('V').measure(100, units='volt').typeb(unc=1, k=2)\n",
    "model.var('I').measure(2, units='amp').typeb(unc=.01, k=2)\n",
    "result = model.calculate()\n",
    "result.units(R='ohm', P='watt')"
   ]
  },
  {
   "cell_type": "code",
   "execution_count": 29,
   "id": "ed26a4a8",
   "metadata": {},
   "outputs": [
    {
     "data": {
      "image/png": "[encoded data removed]",
      "text/plain": [
       "<Figure size 640x480 with 3 Axes>"
      ]
     },
     "metadata": {
      "needs_background": "light"
     },
     "output_type": "display_data"
    }
   ],
   "source": [
    "result.report.plot.joint_pdf()"
   ]
  },
  {
   "cell_type": "code",
   "execution_count": 30,
   "id": "b81e1d5f",
   "metadata": {},
   "outputs": [
    {
     "data": {
      "text/html": [
       "<!DOCTYPE html><html lang=\"en\">\n",
       "<head>\n",
       "<style type=\"text/css\">\n",
       "\n",
       "body {\n",
       "  font-family: sans-serif;\n",
       "  font-size: 16px;\n",
       "  line-height: 1.7;\n",
       "  padding: 1em;\n",
       "  margin: auto;\n",
       "  max-width: 56em;\n",
       "}\n",
       "\n",
       "a {\n",
       "  color: #0645ad;\n",
       "  text-decoration: none;\n",
       "}\n",
       "\n",
       "a:visited {\n",
       "  color: #0b0080;\n",
       "}\n",
       "\n",
       "a:hover {\n",
       "  color: #06e;\n",
       "}\n",
       "\n",
       "a:active {\n",
       "  color: #7c4ca8;\n",
       "}\n",
       "\n",
       "a:focus {\n",
       "  outline: thin dotted;\n",
       "}\n",
       "\n",
       "*::selection {\n",
       "  background: rgba(0, 89, 255, 0.3);\n",
       "  color: #000;\n",
       "}\n",
       "\n",
       "p {\n",
       "  font-family: sans-serif;\n",
       "  margin: 1em 0;\n",
       "}\n",
       "\n",
       "img {\n",
       "  max-width: 100%;\n",
       "}\n",
       "\n",
       "h1, h2, h3, h4, h5, h6 {\n",
       "  font-family: sans-serif;\n",
       "  line-height: 125%;\n",
       "  margin-top: 2em;\n",
       "  font-weight: normal;\n",
       "}\n",
       "\n",
       "h4, h5, h6 {\n",
       "  font-weight: bold;\n",
       "}\n",
       "\n",
       "h1 {\n",
       "  font-size: 2.5em;\n",
       "}\n",
       "\n",
       "h2 {\n",
       "  font-size: 2em;\n",
       "}\n",
       "\n",
       "h3 {\n",
       "  font-size: 1.5em;\n",
       "}\n",
       "\n",
       "h4 {\n",
       "  font-size: 1.2em;\n",
       "}\n",
       "\n",
       "h5 {\n",
       "  font-size: 1em;\n",
       "}\n",
       "\n",
       "h6 {\n",
       "  font-size: 0.9em;\n",
       "}\n",
       "\n",
       "table {\n",
       "    margin: 10px 5px;\n",
       "    border-collapse: collapse;\n",
       " }\n",
       "\n",
       "th {\n",
       "    background-color: #eee;\n",
       "    font-weight: bold;\n",
       "}\n",
       "\n",
       "th, td {\n",
       "    border: 1px solid lightgray;\n",
       "    padding: .2em 1em;\n",
       "}\n",
       "</style><script>\n",
       "  MathJax = {\n",
       "    tex: {\n",
       "      inlineMath: [['$', '$'], ['\\\\(', '\\\\)']]\n",
       "    },\n",
       "    svg: {\n",
       "      fontCache: 'global',\n",
       "      scale: 1.3\n",
       "    }\n",
       "  };\n",
       "  </script>\n",
       "  <script type=\"text/javascript\" id=\"MathJax-script\" async\n",
       "    src=\"https://cdn.jsdelivr.net/npm/mathjax@3/es5/tex-svg.js\">\n",
       "</script>\n",
       "</head>\n",
       "<body>\n",
       "<h3>Correlation Coefficients</h3>\n",
       "<table>\n",
       "<thead>\n",
       "<tr>\n",
       "<th>&nbsp;</th>\n",
       "<th>$R$</th>\n",
       "<th>$P$</th>\n",
       "</tr>\n",
       "</thead>\n",
       "<tbody>\n",
       "<tr>\n",
       "<td>$R$</td>\n",
       "<td>1.000</td>\n",
       "<td>0.600</td>\n",
       "</tr>\n",
       "<tr>\n",
       "<td>$P$</td>\n",
       "<td>0.600</td>\n",
       "<td>1.000</td>\n",
       "</tr>\n",
       "</tbody>\n",
       "</table>\n",
       "</body>\n",
       "</html>"
      ],
      "text/markdown": [
       "### Correlation Coefficients\n",
       "\n",
       "\n",
       "|&nbsp;    | $R$  | $P$ |\n",
       "|---------|---------|---------|\n",
       "|$R$  | 1.000     | 0.600    |\n",
       "|$P$  | 0.600     | 1.000    |"
      ],
      "text/plain": [
       "<suncal.common.report.Report at 0x192345d3380>"
      ]
     },
     "execution_count": 30,
     "metadata": {},
     "output_type": "execute_result"
    }
   ],
   "source": [
    "result.gum.report.correlation()"
   ]
  },
  {
   "cell_type": "markdown",
   "id": "bd9823d4",
   "metadata": {},
   "source": [
    "## Other Model Types\n",
    "\n",
    "Above, we have seen models defined as equations in Python strings.\n",
    "Suncal can also compute unceratinty of Sympy expressions, Python callable functions, and Complex-Numbered functions, as described below.\n",
    "\n",
    "### Sympy Models\n",
    "\n",
    "Sometimes a measurement model may be already defined as a Sympy expression. The `suncal.Model` can also take sympy expressions as arguments. When a string expressions is supplied as above, it will be \"sympyfied\" before calculating anyway, so the results are identical."
   ]
  },
  {
   "cell_type": "code",
   "execution_count": 31,
   "id": "f99a8a11",
   "metadata": {},
   "outputs": [
    {
     "data": {
      "text/latex": [
       "$\\displaystyle \\sqrt{x^{2} + y^{2}}$"
      ],
      "text/plain": [
       "sqrt(x**2 + y**2)"
      ]
     },
     "execution_count": 31,
     "metadata": {},
     "output_type": "execute_result"
    }
   ],
   "source": [
    "import sympy\n",
    "x, y = sympy.symbols('x y')\n",
    "expr = sympy.sqrt(x**2 + y**2)\n",
    "expr"
   ]
  },
  {
   "cell_type": "code",
   "execution_count": 32,
   "id": "07db4a02",
   "metadata": {},
   "outputs": [
    {
     "data": {
      "text/markdown": [
       "|Function   | Method       | Nominal   | Std. Uncertainty   | 95% Coverage   | k         | Deg. Freedom  |\n",
       "|----------|------------|---------|------------------|--------------|---------|--------------|\n",
       "|$f_{1}$   | GUM          | 0.014  | 0.010           | ± 0.020     | 1.960     | inf           |\n",
       "|$f_{1}$   | Monte Carlo  | 0.0181  | 0.0085           | (0.0037, 0.0360) | 1.909     | &nbsp;        |"
      ],
      "text/plain": [
       "UncertaintyResults(gum=<suncal.uncertainty.results.gum.GumResults object at 0x0000019237705F10>, montecarlo=<suncal.uncertainty.results.monte.McResults object at 0x00000192378DAB10>)"
      ]
     },
     "execution_count": 32,
     "metadata": {},
     "output_type": "execute_result"
    }
   ],
   "source": [
    "model = suncal.Model(expr)\n",
    "model.var('x').measure(0.01).typeb(std=0.01)\n",
    "model.var('y').measure(0.01).typeb(std=0.01)\n",
    "result = model.calculate()\n",
    "result"
   ]
  },
  {
   "cell_type": "markdown",
   "id": "805555da",
   "metadata": {},
   "source": [
    "## Python Callable Models"
   ]
  },
  {
   "cell_type": "markdown",
   "id": "19945ddc",
   "metadata": {},
   "source": [
    "Some measurement models cannot be written as a simple string expression. Suncal can handle uncertainty calculation on any Python callable function, without needing a simple expression form. `suncal.ModelCallable` takes a Python function as input and computes the uncertainty. The only limitation is that symbolic results are not available (the partial derivatives for the sensitvity coefficients are computed by numeric approximation).\n",
    "\n",
    "Below shows how a custom function may be passed to `suncal.ModelCallable`. Parameter names and the funciton name are automatically extracted."
   ]
  },
  {
   "cell_type": "code",
   "execution_count": 33,
   "id": "085601e7",
   "metadata": {},
   "outputs": [
    {
     "data": {
      "text/markdown": [
       "|Function   | Method       | Nominal   | Std. Uncertainty   | 95% Coverage   | k         | Deg. Freedom  |\n",
       "|----------|------------|---------|------------------|--------------|---------|--------------|\n",
       "|$myfunc$   | GUM          | 778  | 20           | ± 39     | 1.960     | inf           |\n",
       "|$myfunc$   | Monte Carlo  | 778  | 20           | (739, 818) | 1.959     | &nbsp;        |"
      ],
      "text/plain": [
       "UncertaintyResults(gum=<suncal.uncertainty.results.gum.GumResults object at 0x00000192376B7D70>, montecarlo=<suncal.uncertainty.results.monte.McResults object at 0x00000192345B05F0>)"
      ]
     },
     "execution_count": 33,
     "metadata": {},
     "output_type": "execute_result"
    }
   ],
   "source": [
    "def myfunc(a, b):\n",
    "    return a * b + 10\n",
    "\n",
    "model = suncal.ModelCallable(myfunc)\n",
    "model.var('a').measure(24).typeb(std=.5)\n",
    "model.var('b').measure(32).typeb(std=.5)\n",
    "model.calculate()"
   ]
  },
  {
   "cell_type": "markdown",
   "id": "73812788",
   "metadata": {},
   "source": [
    "Multi-variate models may be used if they are returned as a tuple from a single function. Namedtuples work nicely to provide the result names."
   ]
  },
  {
   "cell_type": "code",
   "execution_count": 34,
   "id": "60f22815",
   "metadata": {},
   "outputs": [
    {
     "data": {
      "text/markdown": [
       "|Function   | Method       | Nominal   | Std. Uncertainty   | 95% Coverage   | k         | Deg. Freedom  |\n",
       "|----------|------------|---------|------------------|--------------|---------|--------------|\n",
       "|$output_{1}$   | GUM          | 778  | 20           | ± 39     | 1.960     | inf           |\n",
       "|$output_{1}$   | Monte Carlo  | 778  | 20           | (739, 817) | 1.960     | &nbsp;        |\n",
       "|$output_{2}$   | GUM          | 18430  | 820           | ± 1600     | 1.960     | inf           |\n",
       "|$output_{2}$   | Monte Carlo  | 18440 | 820          | (16860, 20080) | 1.961     | &nbsp;        |"
      ],
      "text/plain": [
       "UncertaintyResults(gum=<suncal.uncertainty.results.gum.GumResults object at 0x00000192346344D0>, montecarlo=<suncal.uncertainty.results.monte.McResults object at 0x0000019237705BB0>)"
      ]
     },
     "execution_count": 34,
     "metadata": {},
     "output_type": "execute_result"
    }
   ],
   "source": [
    "from collections import namedtuple\n",
    "\n",
    "def myfunc(a, b):\n",
    "    MyFuncResult = namedtuple('MyFuncResult', 'output1 output2')\n",
    "    return MyFuncResult(a * b + 10, a**2 * b)\n",
    "\n",
    "model = suncal.ModelCallable(myfunc)\n",
    "model.var('a').measure(24).typeb(std=.5)\n",
    "model.var('b').measure(32).typeb(std=.5)\n",
    "model.calculate()"
   ]
  },
  {
   "cell_type": "markdown",
   "id": "d3352699",
   "metadata": {},
   "source": [
    "Functions that take keyword arguments can be used, but the `argnames` parameter must be speficied so suncal knows what variables are expected.\n",
    "If the function cannot process Pint Quantity objects (values with units), and you would like to handle units on the inputs, the `unitsin` and `unitsout` parameters can be specified, telling suncal what output units (`unitsout`) result when the input argements are in `unitsin`."
   ]
  },
  {
   "cell_type": "code",
   "execution_count": 35,
   "id": "b6d35e4b",
   "metadata": {},
   "outputs": [
    {
     "data": {
      "text/markdown": [
       "|Function   | Method       | Nominal   | Std. Uncertainty   | 95% Coverage   | k         | Deg. Freedom  |\n",
       "|----------|------------|---------|------------------|--------------|---------|--------------|\n",
       "|$myfunc_{2}$   | GUM          | 5.00  | 0.10           | ± 0.20     | 1.960     | inf           |\n",
       "|$myfunc_{2}$   | Monte Carlo  | 5.00  | 0.10           | (4.80, 5.20) | 1.961     | &nbsp;        |"
      ],
      "text/plain": [
       "UncertaintyResults(gum=<suncal.uncertainty.results.gum.GumResults object at 0x00000192300EDA00>, montecarlo=<suncal.uncertainty.results.monte.McResults object at 0x0000019234637890>)"
      ]
     },
     "execution_count": 35,
     "metadata": {},
     "output_type": "execute_result"
    }
   ],
   "source": [
    "def myfunc2(**kwargs):\n",
    "    X = list(kwargs.values())\n",
    "    return sum(X) / len(X)\n",
    "\n",
    "data = {'X1':2, 'X2':4, 'X3':6, 'X4':8}\n",
    "\n",
    "model = suncal.ModelCallable(myfunc2, argnames=data.keys())  # Must specify names of keyword arguments\n",
    "for i, xval in enumerate([2, 4, 6, 8]):\n",
    "    model.var(f'X{i+1}').measure(xval).typeb(std=.2)\n",
    "    \n",
    "model.calculate()"
   ]
  },
  {
   "cell_type": "markdown",
   "id": "dee6ad9b",
   "metadata": {},
   "source": [
    "#### More notes on python callable functions\n",
    "\n",
    "- Monte Carlo calculation will be much faster if the callable function is vectorizable. If not, the calculator will resort to calling the function N times in a loop.\n",
    "- The partial derivatives used in the GUM calculation will be calculated numerically. Thus the symbolic results are not available for callable functions.\n",
    "- Some callable functions won't work with Pint Quantities as inputs. For these, specify the `unitsin` and `unitsout` arguments to ModelCallable. See the **Inductance Nagaoka** example notebook."
   ]
  },
  {
   "cell_type": "markdown",
   "id": "64697c50",
   "metadata": {},
   "source": [
    "### Complex Numbers\n",
    "\n",
    "When measurement models involve complex numbers, care must be taken to ensure maintaining the correlations between real and imaginary components and conversion from real/imaginary to magnitude/phase space.\n",
    "Suncal provides `suncal.ModelComplex` for models involving complex values. (Note complex models are not available in the GUI at this time.)\n",
    "\n",
    "With complex models, the `measure` method takes both value and uncertainty as arguments. Only Normal distributions are supported currently, but the correlation between real and imaginary components may be specified. This calculation shows an uncertainty evaluation in real and imaginary components."
   ]
  },
  {
   "cell_type": "code",
   "execution_count": 36,
   "id": "70ec084f",
   "metadata": {},
   "outputs": [
    {
     "data": {
      "text/markdown": [
       "|Function   | Method       | Nominal     | Standard Uncertainty   | Correlation  |\n",
       "|----------|------------|-----------|----------------------|-------------|\n",
       "|f          | GUM          | 7.00-1.00j  | ± 0.18+0.18j           | 0.3500       |\n",
       "|f          | Monte Carlo  | 7.00-1.00j  | ± 0.18+0.18j           | 0.3507       |"
      ],
      "text/plain": [
       "<suncal.uncertainty.results.uncertainty.UncertaintyCplxResults at 0x19237681310>"
      ]
     },
     "execution_count": 36,
     "metadata": {},
     "output_type": "execute_result"
    }
   ],
   "source": [
    "model = suncal.ModelComplex('f = a + b')\n",
    "model.var('a').measure(3+2j, uncertainty=.25+.25j, correlation=.35)\n",
    "model.var('b').measure(4-3j, uncertainty=.25+.25j, correlation=.35)\n",
    "result = model.calculate()\n",
    "result"
   ]
  },
  {
   "cell_type": "markdown",
   "id": "eaec99b2",
   "metadata": {},
   "source": [
    "If the results are desired in magnitude and phase format, provide `magphase=True` to the Model. This must be done when the model is created, so that appropriate functions may be added for converting real and imaginary into magnitude and phase while properly accounting for their uncertainties."
   ]
  },
  {
   "cell_type": "code",
   "execution_count": 37,
   "id": "d564d87f",
   "metadata": {},
   "outputs": [
    {
     "data": {
      "text/markdown": [
       "|Function   | Method       | Nominal          | Standard Uncertainty   | Correlation  |\n",
       "|----------|------------|----------------|----------------------|-------------|\n",
       "|f          | GUM          | 18.03 ∠-3.2 rad  | ± 0.81 ∠2.3 rad        | 0.1227       |\n",
       "|f          | Monte Carlo  | 18.04 ∠-3.2 rad  | ± 0.81 ∠2.3 rad        | 0.1229       |"
      ],
      "text/plain": [
       "<suncal.uncertainty.results.uncertainty.UncertaintyCplxResults at 0x19237681c10>"
      ]
     },
     "execution_count": 37,
     "metadata": {},
     "output_type": "execute_result"
    }
   ],
   "source": [
    "model = suncal.ModelComplex('f = a * b', magphase=True)\n",
    "model.var('a').measure(3+2j, uncertainty=.25+.25j, correlation=.35)\n",
    "model.var('b').measure(4-3j, uncertainty=.25+.25j, correlation=.35)\n",
    "result = model.calculate()\n",
    "result"
   ]
  },
  {
   "cell_type": "markdown",
   "id": "7c054576",
   "metadata": {},
   "source": [
    "If degrees are preferred instead of radians:"
   ]
  },
  {
   "cell_type": "code",
   "execution_count": 38,
   "id": "653dae0a",
   "metadata": {},
   "outputs": [
    {
     "data": {
      "text/markdown": [
       "|Function   | Method       | Nominal       | Standard Uncertainty   | Correlation  |\n",
       "|----------|------------|-------------|----------------------|-------------|\n",
       "|f          | GUM          | 18.03 ∠-3.2°  | ± 0.81 ∠2.3°           | 0.1227       |\n",
       "|f          | Monte Carlo  | 18.04 ∠-3.2°  | ± 0.81 ∠2.3°           | 0.1229       |"
      ],
      "text/plain": [
       "<suncal.uncertainty.results.uncertainty.UncertaintyCplxResults at 0x19237681c10>"
      ]
     },
     "execution_count": 38,
     "metadata": {},
     "output_type": "execute_result"
    }
   ],
   "source": [
    "result.degrees(True)"
   ]
  },
  {
   "cell_type": "markdown",
   "id": "5164e302",
   "metadata": {},
   "source": [
    "Finally, if the measured values are also given in magnitude and phase, they must be appropriately converted to real and imaginary to handle the statistics. Suncal provides the `measure_magphase` method to define variables:"
   ]
  },
  {
   "cell_type": "code",
   "execution_count": 39,
   "id": "f9465991",
   "metadata": {},
   "outputs": [],
   "source": [
    "model = suncal.ModelComplex('f = a + b', magphase=True)\n",
    "model.var('a').measure_magphase(magnitude=0.95, phase=45, degrees=True, umagnitude=.05, uphase=5)\n",
    "model.var('b').measure_magphase(magnitude=0.95, phase=45, degrees=True, umagnitude=.05, uphase=5)\n",
    "result = model.calculate()"
   ]
  },
  {
   "cell_type": "markdown",
   "id": "e73eec40",
   "metadata": {},
   "source": [
    "Internally, Suncal splits each model function, and each model variable, into a real part and imaginary part, with appropriate correlations applied. The normal GUM and Monte Carlo methods are computed on the split functions, then the results are recombined. Because every function and variable becomes multiple model equations, the calculations can become slow. To see the full calculation, use `result.report.fullreport`."
   ]
  },
  {
   "cell_type": "code",
   "execution_count": 40,
   "id": "3a290b4e",
   "metadata": {},
   "outputs": [
    {
     "data": {
      "text/markdown": [
       "|Variable   | Mean      | Std. Uncertainty   | Deg. Freedom   | Description  |\n",
       "|----------|---------|------------------|--------------|-------------|\n",
       "|$a_{deg}$   | 0.785  | 0.044           | inf       |              |\n",
       "|$a_{mag}$   | 0.950  | 0.025           | inf       |              |\n",
       "|$b_{deg}$   | 0.785  | 0.044           | inf       |              |\n",
       "|$b_{mag}$   | 0.950  | 0.025          | inf      |              |"
      ],
      "text/plain": [
       "<suncal.uncertainty.report.uncertainty.VariablesReport at 0x192343087d0>"
      ]
     },
     "execution_count": 40,
     "metadata": {},
     "output_type": "execute_result"
    }
   ],
   "source": [
    "result.report.fullreport.variables"
   ]
  },
  {
   "cell_type": "code",
   "execution_count": 41,
   "id": "fb106cc0",
   "metadata": {},
   "outputs": [
    {
     "data": {
      "text/html": [
       "<!DOCTYPE html><html lang=\"en\">\n",
       "<head>\n",
       "<style type=\"text/css\">\n",
       "\n",
       "body {\n",
       "  font-family: sans-serif;\n",
       "  font-size: 16px;\n",
       "  line-height: 1.7;\n",
       "  padding: 1em;\n",
       "  margin: auto;\n",
       "  max-width: 56em;\n",
       "}\n",
       "\n",
       "a {\n",
       "  color: #0645ad;\n",
       "  text-decoration: none;\n",
       "}\n",
       "\n",
       "a:visited {\n",
       "  color: #0b0080;\n",
       "}\n",
       "\n",
       "a:hover {\n",
       "  color: #06e;\n",
       "}\n",
       "\n",
       "a:active {\n",
       "  color: #7c4ca8;\n",
       "}\n",
       "\n",
       "a:focus {\n",
       "  outline: thin dotted;\n",
       "}\n",
       "\n",
       "*::selection {\n",
       "  background: rgba(0, 89, 255, 0.3);\n",
       "  color: #000;\n",
       "}\n",
       "\n",
       "p {\n",
       "  font-family: sans-serif;\n",
       "  margin: 1em 0;\n",
       "}\n",
       "\n",
       "img {\n",
       "  max-width: 100%;\n",
       "}\n",
       "\n",
       "h1, h2, h3, h4, h5, h6 {\n",
       "  font-family: sans-serif;\n",
       "  line-height: 125%;\n",
       "  margin-top: 2em;\n",
       "  font-weight: normal;\n",
       "}\n",
       "\n",
       "h4, h5, h6 {\n",
       "  font-weight: bold;\n",
       "}\n",
       "\n",
       "h1 {\n",
       "  font-size: 2.5em;\n",
       "}\n",
       "\n",
       "h2 {\n",
       "  font-size: 2em;\n",
       "}\n",
       "\n",
       "h3 {\n",
       "  font-size: 1.5em;\n",
       "}\n",
       "\n",
       "h4 {\n",
       "  font-size: 1.2em;\n",
       "}\n",
       "\n",
       "h5 {\n",
       "  font-size: 1em;\n",
       "}\n",
       "\n",
       "h6 {\n",
       "  font-size: 0.9em;\n",
       "}\n",
       "\n",
       "table {\n",
       "    margin: 10px 5px;\n",
       "    border-collapse: collapse;\n",
       " }\n",
       "\n",
       "th {\n",
       "    background-color: #eee;\n",
       "    font-weight: bold;\n",
       "}\n",
       "\n",
       "th, td {\n",
       "    border: 1px solid lightgray;\n",
       "    padding: .2em 1em;\n",
       "}\n",
       "</style><script>\n",
       "  MathJax = {\n",
       "    tex: {\n",
       "      inlineMath: [['$', '$'], ['\\\\(', '\\\\)']]\n",
       "    },\n",
       "    svg: {\n",
       "      fontCache: 'global',\n",
       "      scale: 1.3\n",
       "    }\n",
       "  };\n",
       "  </script>\n",
       "  <script type=\"text/javascript\" id=\"MathJax-script\" async\n",
       "    src=\"https://cdn.jsdelivr.net/npm/mathjax@3/es5/tex-svg.js\">\n",
       "</script>\n",
       "</head>\n",
       "<body>\n",
       "<table>\n",
       "<thead>\n",
       "<tr>\n",
       "<th>Function</th>\n",
       "<th>Method</th>\n",
       "<th>Nominal</th>\n",
       "<th>Std. Uncertainty</th>\n",
       "<th>95% Coverage</th>\n",
       "<th>k</th>\n",
       "<th>Deg. Freedom</th>\n",
       "</tr>\n",
       "</thead>\n",
       "<tbody>\n",
       "<tr>\n",
       "<td>$f_{mag}$</td>\n",
       "<td>GUM</td>\n",
       "<td>1.900</td>\n",
       "<td>0.035</td>\n",
       "<td>&#177; 0.069</td>\n",
       "<td>1.960</td>\n",
       "<td>inf</td>\n",
       "</tr>\n",
       "<tr>\n",
       "<td>$f_{mag}$</td>\n",
       "<td>Monte Carlo</td>\n",
       "<td>1.900</td>\n",
       "<td>0.035</td>\n",
       "<td>(1.831, 1.969)</td>\n",
       "<td>1.962</td>\n",
       "<td>&nbsp;</td>\n",
       "</tr>\n",
       "<tr>\n",
       "<td>$f_{rad}$</td>\n",
       "<td>GUM</td>\n",
       "<td>0.01371</td>\n",
       "<td>0.00054</td>\n",
       "<td>&#177; 0.0011</td>\n",
       "<td>1.960</td>\n",
       "<td>inf</td>\n",
       "</tr>\n",
       "<tr>\n",
       "<td>$f_{rad}$</td>\n",
       "<td>Monte Carlo</td>\n",
       "<td>0.01371</td>\n",
       "<td>0.00054</td>\n",
       "<td>(0.01265, 0.01476)</td>\n",
       "<td>1.959</td>\n",
       "<td>&nbsp;</td>\n",
       "</tr>\n",
       "</tbody>\n",
       "</table>\n",
       "</body>\n",
       "</html>"
      ],
      "text/markdown": [
       "|Function   | Method       | Nominal   | Std. Uncertainty   | 95% Coverage   | k         | Deg. Freedom  |\n",
       "|----------|------------|---------|------------------|--------------|---------|--------------|\n",
       "|$f_{mag}$   | GUM          | 1.900  | 0.035           | ± 0.069     | 1.960     | inf           |\n",
       "|$f_{mag}$   | Monte Carlo  | 1.900  | 0.035           | (1.831, 1.969) | 1.962     | &nbsp;        |\n",
       "|$f_{rad}$   | GUM          | 0.01371  | 0.00054           | ± 0.0011     | 1.960     | inf           |\n",
       "|$f_{rad}$   | Monte Carlo  | 0.01371 | 0.00054          | (0.01265, 0.01476) | 1.959     | &nbsp;        |"
      ],
      "text/plain": [
       "<suncal.common.report.Report at 0x19237681460>"
      ]
     },
     "execution_count": 41,
     "metadata": {},
     "output_type": "execute_result"
    }
   ],
   "source": [
    "result.report.fullreport.summary()"
   ]
  },
  {
   "cell_type": "markdown",
   "id": "31ae6791",
   "metadata": {},
   "source": [
    "## Plotting\n",
    "\n",
    "Plots are generated with Matplotlib. They may be re-styled using matplotlib themes."
   ]
  },
  {
   "cell_type": "code",
   "execution_count": 42,
   "id": "74ec89d6",
   "metadata": {},
   "outputs": [
    {
     "data": {
      "image/png": "[encoded data removed]",
      "text/plain": [
       "<Figure size 640x480 with 1 Axes>"
      ]
     },
     "metadata": {},
     "output_type": "display_data"
    }
   ],
   "source": [
    "import matplotlib.pyplot as plt\n",
    "plt.style.use('ggplot')\n",
    "results.report.plot.pdf()"
   ]
  },
  {
   "cell_type": "markdown",
   "id": "788b2093",
   "metadata": {},
   "source": [
    "Keyword arguments to the suncal plot functions are passed to the matplotlib plot methods."
   ]
  },
  {
   "cell_type": "code",
   "execution_count": 43,
   "id": "83b95c19",
   "metadata": {},
   "outputs": [
    {
     "data": {
      "image/png": "[encoded data removed]",
      "text/plain": [
       "<Figure size 640x480 with 1 Axes>"
      ]
     },
     "metadata": {},
     "output_type": "display_data"
    }
   ],
   "source": [
    "results.gum.report.plot.pdf(ls='--', linewidth=4)"
   ]
  },
  {
   "cell_type": "markdown",
   "id": "4d3aa22a",
   "metadata": {},
   "source": [
    "## Probability Distributions\n",
    "\n",
    "Any distribution implemented by the scipy.stats module can be used in the `typeb` method.\n",
    "(See http://docs.scipy.org/doc/scipy/reference/stats.html)\n",
    "Custom distributions can also be implemented by subclassing rv_continuous or rv_discrete.\n",
    "See Curvilinear Trapezoidal distribution in suncal/common/distributions.py for an example of subclassing.\n",
    "\n",
    "Below are examples of how to set up some common distributions in the `typeb` method."
   ]
  },
  {
   "cell_type": "code",
   "execution_count": 44,
   "id": "258e6146",
   "metadata": {},
   "outputs": [],
   "source": [
    "from suncal.uncertainty.variables import Typeb\n",
    "\n",
    "plt.rcParams['figure.figsize'] = (4, 3)"
   ]
  },
  {
   "cell_type": "code",
   "execution_count": 45,
   "id": "f4916982",
   "metadata": {},
   "outputs": [
    {
     "data": {
      "image/png": "[encoded data removed]",
      "text/plain": [
       "<Figure size 400x300 with 1 Axes>"
      ]
     },
     "metadata": {},
     "output_type": "display_data"
    }
   ],
   "source": [
    "u = Typeb(dist='normal', nominal=4, std=0.5)\n",
    "x, y = u.pdf()\n",
    "plt.plot(x, y);"
   ]
  },
  {
   "cell_type": "code",
   "execution_count": 46,
   "id": "061b8b09",
   "metadata": {},
   "outputs": [
    {
     "data": {
      "image/png": "[encoded data removed]",
      "text/plain": [
       "<Figure size 400x300 with 1 Axes>"
      ]
     },
     "metadata": {},
     "output_type": "display_data"
    }
   ],
   "source": [
    "u = Typeb(dist='uniform', nominal=5, a=0.5)\n",
    "x, y = u.pdf()\n",
    "plt.plot(x, y);"
   ]
  },
  {
   "cell_type": "code",
   "execution_count": 47,
   "id": "a5b913fc",
   "metadata": {},
   "outputs": [
    {
     "data": {
      "image/png": "[encoded data removed]",
      "text/plain": [
       "<Figure size 400x300 with 1 Axes>"
      ]
     },
     "metadata": {},
     "output_type": "display_data"
    },
    {
     "data": {
      "image/png": "[encoded data removed]",
      "text/plain": [
       "<Figure size 400x300 with 1 Axes>"
      ]
     },
     "metadata": {},
     "output_type": "display_data"
    }
   ],
   "source": [
    "# Beta, parameters a and b\n",
    "u = Typeb(dist='beta', a=.5, b=.5)\n",
    "x, y = u.pdf()\n",
    "plt.plot(x, y);\n",
    "\n",
    "plt.figure()\n",
    "u = Typeb(dist='beta', a=2, b=5)\n",
    "x, y = u.pdf()\n",
    "plt.plot(x, y);"
   ]
  },
  {
   "cell_type": "code",
   "execution_count": 48,
   "id": "6236c317",
   "metadata": {},
   "outputs": [
    {
     "data": {
      "image/png": "[encoded data removed]",
      "text/plain": [
       "<Figure size 400x300 with 1 Axes>"
      ]
     },
     "metadata": {},
     "output_type": "display_data"
    }
   ],
   "source": [
    "# Exponential, parameters loc and scale\n",
    "u = Typeb(dist='expon', loc=5, scale=2)\n",
    "x, y = u.pdf()\n",
    "plt.plot(x, y);"
   ]
  },
  {
   "cell_type": "code",
   "execution_count": 49,
   "id": "574ccdac",
   "metadata": {},
   "outputs": [
    {
     "data": {
      "image/png": "[encoded data removed]",
      "text/plain": [
       "<Figure size 400x300 with 1 Axes>"
      ]
     },
     "metadata": {},
     "output_type": "display_data"
    }
   ],
   "source": [
    "# Gamma, parameter alpha and beta (shape)\n",
    "u = Typeb(dist='gamma', alpha=4, beta=4)\n",
    "x, y = u.pdf()\n",
    "plt.plot(x, y);"
   ]
  },
  {
   "cell_type": "code",
   "execution_count": 50,
   "id": "4ed1c37c",
   "metadata": {},
   "outputs": [
    {
     "data": {
      "image/png": "[encoded data removed]",
      "text/plain": [
       "<Figure size 400x300 with 1 Axes>"
      ]
     },
     "metadata": {},
     "output_type": "display_data"
    }
   ],
   "source": [
    "# Student's T,\n",
    "u = Typeb(dist='t', unc=1, df=3)\n",
    "x, y = u.pdf()\n",
    "plt.plot(x, y);"
   ]
  },
  {
   "cell_type": "code",
   "execution_count": 51,
   "id": "eb1b915d",
   "metadata": {},
   "outputs": [
    {
     "data": {
      "image/png": "[encoded data removed]",
      "text/plain": [
       "<Figure size 400x300 with 1 Axes>"
      ]
     },
     "metadata": {},
     "output_type": "display_data"
    }
   ],
   "source": [
    "# Triangular, symmetric\n",
    "u = Typeb(dist='triangular', nominal=2, a=2)\n",
    "x, y = u.pdf()\n",
    "plt.plot(x, y);"
   ]
  },
  {
   "cell_type": "code",
   "execution_count": 52,
   "id": "c16c9e5e",
   "metadata": {},
   "outputs": [
    {
     "data": {
      "image/png": "[encoded data removed]",
      "text/plain": [
       "<Figure size 400x300 with 1 Axes>"
      ]
     },
     "metadata": {},
     "output_type": "display_data"
    }
   ],
   "source": [
    "# Curvilinear Trapezoid (See GUM-Supplement 1)\n",
    "u = Typeb(dist='curvtrap', a=2, d=1)\n",
    "x, y = u.pdf()\n",
    "plt.plot(x, y);"
   ]
  },
  {
   "cell_type": "code",
   "execution_count": null,
   "id": "388c1462",
   "metadata": {},
   "outputs": [],
   "source": []
  }
 ],
 "metadata": {
  "kernelspec": {
   "display_name": "Python 3 (ipykernel)",
   "language": "python",
   "name": "python3"
  },
  "language_info": {
   "codemirror_mode": {
    "name": "ipython",
    "version": 3
   },
   "file_extension": ".py",
   "mimetype": "text/x-python",
   "name": "python",
   "nbconvert_exporter": "python",
   "pygments_lexer": "ipython3",
   "version": "3.12.0"
  }
 },
 "nbformat": 4,
 "nbformat_minor": 5
}
