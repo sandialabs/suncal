{
 "cells": [
  {
   "cell_type": "markdown",
   "id": "64697c50",
   "metadata": {},
   "source": [
    "### Complex Numbers\n",
    "\n",
    "When measurement models involve complex numbers, care must be taken to ensure maintaining the correlations between real and imaginary components and conversion from real/imaginary to magnitude/phase space.\n",
    "Suncal provides `suncal.ModelComplex` for models involving complex values. (Note complex models are not available in the GUI at this time.)\n",
    "\n",
    "With complex models, the `measure` method takes both value and uncertainty as arguments. Only Normal distributions are supported currently, but the correlation between real and imaginary components may be specified. This calculation shows an uncertainty evaluation in real and imaginary components."
   ]
  },
  {
   "cell_type": "code",
   "execution_count": 1,
   "id": "4923c9db",
   "metadata": {},
   "outputs": [],
   "source": [
    "%load_ext autoreload\n",
    "%autoreload 2\n",
    "\n",
    "import numpy as np\n",
    "import suncal"
   ]
  },
  {
   "cell_type": "code",
   "execution_count": 2,
   "id": "70ec084f",
   "metadata": {},
   "outputs": [
    {
     "data": {
      "text/markdown": [
       "|Function   | Method       | Nominal        | Standard Uncertainty   | Correlation  |\n",
       "|----------|------------|--------------|----------------------|-------------|\n",
       "|f          | GUM          | 18.240+0.680j  | ± 0.033+0.033j         | 0.5491       |\n",
       "|f          | Monte Carlo  | 18.240+0.680j  | ± 0.033+0.033j         | 0.5487       |"
      ],
      "text/plain": [
       "<suncal.uncertainty.results.uncertainty.UncertaintyCplxResults at 0x1a924dd8ad0>"
      ]
     },
     "execution_count": 2,
     "metadata": {},
     "output_type": "execute_result"
    }
   ],
   "source": [
    "model = suncal.ModelComplex('f = re(a*b) + a/b')\n",
    "model.var('a').measure(3+2j, uncertainty=.25+.25j, correlation=.35)\n",
    "model.var('b').measure(4-3j, uncertainty=.25+.25j, correlation=.35)\n",
    "result = model.calculate()\n",
    "result"
   ]
  },
  {
   "cell_type": "code",
   "execution_count": null,
   "id": "e0e37175",
   "metadata": {},
   "outputs": [],
   "source": []
  },
  {
   "cell_type": "code",
   "execution_count": 3,
   "id": "7733d904",
   "metadata": {},
   "outputs": [
    {
     "data": {
      "text/markdown": [
       "|Function   | Method       | Nominal   | Std. Uncertainty   | 95% Coverage   | k         | Deg. Freedom  |\n",
       "|----------|------------|---------|------------------|--------------|---------|--------------|\n",
       "|$f$   | GUM          | 0.0  | 0.0           | ± 0.0     | 1.960     | inf           |\n",
       "|$f$   | Monte Carlo  | 0.0  | 0.0           | (0.0, 0.0) | nan       | &nbsp;        |\n",
       "|$g$   | GUM          | 10.0  | 1.0           | ± 2.0     | 1.960     | inf           |\n",
       "|$g$   | Monte Carlo  | 10.0 | 1.00          | (8.0, 12.0) | 1.959     | &nbsp;        |"
      ],
      "text/plain": [
       "UncertaintyResults(gum=<suncal.uncertainty.results.gum.GumResults object at 0x000001A924D1C290>, montecarlo=<suncal.uncertainty.results.monte.McResults object at 0x000001A924DDB770>)"
      ]
     },
     "execution_count": 3,
     "metadata": {},
     "output_type": "execute_result"
    }
   ],
   "source": [
    "model = suncal.Model('f = 0', 'g = x')\n",
    "model.var('x').measure(10).typeb(unc=1)\n",
    "result = model.calculate()\n",
    "result"
   ]
  },
  {
   "cell_type": "code",
   "execution_count": null,
   "id": "189512e8",
   "metadata": {},
   "outputs": [],
   "source": []
  },
  {
   "cell_type": "markdown",
   "id": "eaec99b2",
   "metadata": {},
   "source": [
    "If the results are desired in magnitude and phase format, provide `magphase=True` to the Model. This must be done when the model is created, so that appropriate functions may be added for converting real and imaginary into magnitude and phase while properly accounting for their uncertainties."
   ]
  },
  {
   "cell_type": "code",
   "execution_count": 4,
   "id": "d564d87f",
   "metadata": {},
   "outputs": [
    {
     "data": {
      "text/markdown": [
       "|Function   | Method       | Nominal          | Standard Uncertainty   | Correlation  |\n",
       "|----------|------------|----------------|----------------------|-------------|\n",
       "|f          | GUM          | 18.03 ∠-3.2 rad  | ± 0.81 ∠2.3 rad        | 0.1227       |\n",
       "|f          | Monte Carlo  | 18.04 ∠-3.2 rad  | ± 0.81 ∠2.3 rad        | 0.1231       |"
      ],
      "text/plain": [
       "<suncal.uncertainty.results.uncertainty.UncertaintyCplxResults at 0x1a924e34a70>"
      ]
     },
     "execution_count": 4,
     "metadata": {},
     "output_type": "execute_result"
    }
   ],
   "source": [
    "model = suncal.ModelComplex('f = a * b', magphase=True)\n",
    "model.var('a').measure(3+2j, uncertainty=.25+.25j, correlation=.35)\n",
    "model.var('b').measure(4-3j, uncertainty=.25+.25j, correlation=.35)\n",
    "result = model.calculate()\n",
    "result"
   ]
  },
  {
   "cell_type": "markdown",
   "id": "7c054576",
   "metadata": {},
   "source": [
    "If degrees are preferred instead of radians:"
   ]
  },
  {
   "cell_type": "code",
   "execution_count": 5,
   "id": "653dae0a",
   "metadata": {},
   "outputs": [
    {
     "data": {
      "text/markdown": [
       "|Function   | Method       | Nominal       | Standard Uncertainty   | Correlation  |\n",
       "|----------|------------|-------------|----------------------|-------------|\n",
       "|f          | GUM          | 18.03 ∠-3.2°  | ± 0.81 ∠2.3°           | 0.1227       |\n",
       "|f          | Monte Carlo  | 18.04 ∠-3.2°  | ± 0.81 ∠2.3°           | 0.1231       |"
      ],
      "text/plain": [
       "<suncal.uncertainty.results.uncertainty.UncertaintyCplxResults at 0x1a924e34a70>"
      ]
     },
     "execution_count": 5,
     "metadata": {},
     "output_type": "execute_result"
    }
   ],
   "source": [
    "result.degrees(True)"
   ]
  },
  {
   "cell_type": "markdown",
   "id": "5164e302",
   "metadata": {},
   "source": [
    "Finally, if the measured values are also given in magnitude and phase, they must be appropriately converted to real and imaginary to handle the statistics. Suncal provides the `measure_magphase` method to define variables:"
   ]
  },
  {
   "cell_type": "code",
   "execution_count": 6,
   "id": "f9465991",
   "metadata": {},
   "outputs": [],
   "source": [
    "model = suncal.ModelComplex('f = a + b', magphase=True)\n",
    "model.var('a').measure_magphase(magnitude=0.95, phase=45, degrees=True, umagnitude=.05, uphase=5)\n",
    "model.var('b').measure_magphase(magnitude=0.95, phase=45, degrees=True, umagnitude=.05, uphase=5)\n",
    "result = model.calculate()"
   ]
  },
  {
   "cell_type": "markdown",
   "id": "e73eec40",
   "metadata": {},
   "source": [
    "Internally, Suncal splits each model function, and each model variable, into a real part and imaginary part, with appropriate correlations applied. The normal GUM and Monte Carlo methods are computed on the split functions, then the results are recombined. Because every function and variable becomes multiple model equations, the calculations can become slow. To see the full calculation, use `result.report.fullreport`."
   ]
  },
  {
   "cell_type": "code",
   "execution_count": 7,
   "id": "3a290b4e",
   "metadata": {},
   "outputs": [
    {
     "data": {
      "text/markdown": [
       "|Variable   | Mean      | Std. Uncertainty   | Deg. Freedom   | Description  |\n",
       "|----------|---------|------------------|--------------|-------------|\n",
       "|$a_{deg}$   | 0.785  | 0.044           | inf       |              |\n",
       "|$a_{mag}$   | 0.950  | 0.025           | inf       |              |\n",
       "|$b_{deg}$   | 0.785  | 0.044           | inf       |              |\n",
       "|$b_{mag}$   | 0.950  | 0.025          | inf      |              |"
      ],
      "text/plain": [
       "<suncal.uncertainty.report.uncertainty.VariablesReport at 0x1a926649dc0>"
      ]
     },
     "execution_count": 7,
     "metadata": {},
     "output_type": "execute_result"
    }
   ],
   "source": [
    "result.report.fullreport.variables"
   ]
  },
  {
   "cell_type": "code",
   "execution_count": 8,
   "id": "fb106cc0",
   "metadata": {},
   "outputs": [
    {
     "data": {
      "text/html": [
       "<!DOCTYPE html><html lang=\"en\">\n",
       "<head>\n",
       "<style type=\"text/css\">\n",
       "\n",
       "body {\n",
       "  font-family: sans-serif;\n",
       "  font-size: 16px;\n",
       "  line-height: 1.7;\n",
       "  padding: 1em;\n",
       "  margin: auto;\n",
       "  max-width: 56em;\n",
       "}\n",
       "\n",
       "a {\n",
       "  color: #0645ad;\n",
       "  text-decoration: none;\n",
       "}\n",
       "\n",
       "a:visited {\n",
       "  color: #0b0080;\n",
       "}\n",
       "\n",
       "a:hover {\n",
       "  color: #06e;\n",
       "}\n",
       "\n",
       "a:active {\n",
       "  color: #7c4ca8;\n",
       "}\n",
       "\n",
       "a:focus {\n",
       "  outline: thin dotted;\n",
       "}\n",
       "\n",
       "*::selection {\n",
       "  background: rgba(0, 89, 255, 0.3);\n",
       "  color: #000;\n",
       "}\n",
       "\n",
       "p {\n",
       "  font-family: sans-serif;\n",
       "  margin: 1em 0;\n",
       "}\n",
       "\n",
       "img {\n",
       "  max-width: 100%;\n",
       "}\n",
       "\n",
       "h1, h2, h3, h4, h5, h6 {\n",
       "  font-family: sans-serif;\n",
       "  line-height: 125%;\n",
       "  margin-top: 2em;\n",
       "  font-weight: normal;\n",
       "}\n",
       "\n",
       "h4, h5, h6 {\n",
       "  font-weight: bold;\n",
       "}\n",
       "\n",
       "h1 {\n",
       "  font-size: 2.5em;\n",
       "}\n",
       "\n",
       "h2 {\n",
       "  font-size: 2em;\n",
       "}\n",
       "\n",
       "h3 {\n",
       "  font-size: 1.5em;\n",
       "}\n",
       "\n",
       "h4 {\n",
       "  font-size: 1.2em;\n",
       "}\n",
       "\n",
       "h5 {\n",
       "  font-size: 1em;\n",
       "}\n",
       "\n",
       "h6 {\n",
       "  font-size: 0.9em;\n",
       "}\n",
       "\n",
       "table {\n",
       "    margin: 10px 5px;\n",
       "    border-collapse: collapse;\n",
       " }\n",
       "\n",
       "th {\n",
       "    background-color: #eee;\n",
       "    font-weight: bold;\n",
       "}\n",
       "\n",
       "th, td {\n",
       "    border: 1px solid lightgray;\n",
       "    padding: .2em 1em;\n",
       "}\n",
       "</style><script>\n",
       "  MathJax = {\n",
       "    tex: {\n",
       "      inlineMath: [['$', '$'], ['\\\\(', '\\\\)']]\n",
       "    },\n",
       "    svg: {\n",
       "      fontCache: 'global',\n",
       "      scale: 1.3\n",
       "    }\n",
       "  };\n",
       "  </script>\n",
       "  <script type=\"text/javascript\" id=\"MathJax-script\" async\n",
       "    src=\"https://cdn.jsdelivr.net/npm/mathjax@3/es5/tex-svg.js\">\n",
       "</script>\n",
       "</head>\n",
       "<body>\n",
       "<table>\n",
       "<thead>\n",
       "<tr>\n",
       "<th>Function</th>\n",
       "<th>Method</th>\n",
       "<th>Nominal</th>\n",
       "<th>Std. Uncertainty</th>\n",
       "<th>95% Coverage</th>\n",
       "<th>k</th>\n",
       "<th>Deg. Freedom</th>\n",
       "</tr>\n",
       "</thead>\n",
       "<tbody>\n",
       "<tr>\n",
       "<td>$f_{mag}$</td>\n",
       "<td>GUM</td>\n",
       "<td>1.900</td>\n",
       "<td>0.035</td>\n",
       "<td>&#177; 0.069</td>\n",
       "<td>1.960</td>\n",
       "<td>inf</td>\n",
       "</tr>\n",
       "<tr>\n",
       "<td>$f_{mag}$</td>\n",
       "<td>Monte Carlo</td>\n",
       "<td>1.900</td>\n",
       "<td>0.035</td>\n",
       "<td>(1.831, 1.969)</td>\n",
       "<td>1.961</td>\n",
       "<td>&nbsp;</td>\n",
       "</tr>\n",
       "<tr>\n",
       "<td>$f_{rad}$</td>\n",
       "<td>GUM</td>\n",
       "<td>0.01371</td>\n",
       "<td>0.00054</td>\n",
       "<td>&#177; 0.0011</td>\n",
       "<td>1.960</td>\n",
       "<td>inf</td>\n",
       "</tr>\n",
       "<tr>\n",
       "<td>$f_{rad}$</td>\n",
       "<td>Monte Carlo</td>\n",
       "<td>0.01371</td>\n",
       "<td>0.00054</td>\n",
       "<td>(0.01265, 0.01476)</td>\n",
       "<td>1.962</td>\n",
       "<td>&nbsp;</td>\n",
       "</tr>\n",
       "</tbody>\n",
       "</table>\n",
       "</body>\n",
       "</html>"
      ],
      "text/markdown": [
       "|Function   | Method       | Nominal   | Std. Uncertainty   | 95% Coverage   | k         | Deg. Freedom  |\n",
       "|----------|------------|---------|------------------|--------------|---------|--------------|\n",
       "|$f_{mag}$   | GUM          | 1.900  | 0.035           | ± 0.069     | 1.960     | inf           |\n",
       "|$f_{mag}$   | Monte Carlo  | 1.900  | 0.035           | (1.831, 1.969) | 1.961     | &nbsp;        |\n",
       "|$f_{rad}$   | GUM          | 0.01371  | 0.00054           | ± 0.0011     | 1.960     | inf           |\n",
       "|$f_{rad}$   | Monte Carlo  | 0.01371 | 0.00054          | (0.01265, 0.01476) | 1.962     | &nbsp;        |"
      ],
      "text/plain": [
       "<suncal.common.report.Report at 0x1a9265fc770>"
      ]
     },
     "execution_count": 8,
     "metadata": {},
     "output_type": "execute_result"
    }
   ],
   "source": [
    "result.report.fullreport.summary()"
   ]
  },
  {
   "cell_type": "code",
   "execution_count": null,
   "id": "388c1462",
   "metadata": {},
   "outputs": [],
   "source": []
  },
  {
   "cell_type": "code",
   "execution_count": null,
   "id": "9aa3be2c",
   "metadata": {},
   "outputs": [],
   "source": []
  }
 ],
 "metadata": {
  "kernelspec": {
   "display_name": "Python 3 (ipykernel)",
   "language": "python",
   "name": "python3"
  },
  "language_info": {
   "codemirror_mode": {
    "name": "ipython",
    "version": 3
   },
   "file_extension": ".py",
   "mimetype": "text/x-python",
   "name": "python",
   "nbconvert_exporter": "python",
   "pygments_lexer": "ipython3",
   "version": "3.12.0"
  }
 },
 "nbformat": 4,
 "nbformat_minor": 5
}
