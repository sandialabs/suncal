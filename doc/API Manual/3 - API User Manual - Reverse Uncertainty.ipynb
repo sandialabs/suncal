{
 "cells": [
  {
   "cell_type": "markdown",
   "id": "66692860",
   "metadata": {},
   "source": [
    "# Suncal API User Manual: Reverse Uncertainty Propagation Calculations\n",
    "\n",
    "The Reverse Uncertainty calculation answers the question \"How much uncertainty is accepatble in one input variable to acheive some required uncertainty in the output of the model?\"\n",
    "\n",
    "Start by importing `reverse` from suncal."
   ]
  },
  {
   "cell_type": "code",
   "execution_count": 1,
   "id": "dc3fafe0",
   "metadata": {},
   "outputs": [],
   "source": [
    "import suncal\n",
    "from suncal import reverse"
   ]
  },
  {
   "cell_type": "markdown",
   "id": "b1a7f510",
   "metadata": {},
   "source": [
    "Consider the example of measuring density of a cylinder by measuring it's height, diameter, and mass:\n",
    "\n",
    "$\\rho = \\frac{m}{\\pi (d/2)^2 h}$\n",
    "\n",
    "The product specification for a cylinder lists a density requirement of $2.00 \\pm 0.06 \\, \\mathrm{g/cm^3}$ (95% confidence). From the manufacturing process, the height and diameter are given as $h=1.5$ cm and $d=1.0$ cm with uncertainty of $0.01$ cm (95% confidence). What range of measured mass values result in an acceptable density?\n",
    "\n",
    "To properly set up this calculation, use `suncal.reverse.Modelreverse`.\n",
    "It works similarly to `suncal.Model`, taking one or more model functions as parameters. However, the `ModelReverse` must also specify the nominal target value, target uncertainty, and variable to solve for.\n",
    "\n",
    "Here the cylinder density example is set up:"
   ]
  },
  {
   "cell_type": "code",
   "execution_count": 2,
   "id": "25ffbcf6",
   "metadata": {},
   "outputs": [],
   "source": [
    "# Define the cylinder parameters\n",
    "rho_req = 2\n",
    "urho_req = .06     # 95%\n",
    "d, h = 1.0, 1.5\n",
    "ud, uh = .01, .01  # 95%"
   ]
  },
  {
   "cell_type": "code",
   "execution_count": 3,
   "id": "6e62f508",
   "metadata": {},
   "outputs": [
    {
     "data": {
      "text/markdown": [
       "## GUM reverse uncertainty\n",
       "\n",
       "$\\rho = \\frac{4 m}{\\pi d^{2} h}$\n",
       "\n",
       " Combined uncertainty:\n",
       "\n",
       "$u_{\\rho} = \\frac{4 \\sqrt{\\frac{d^{2} h^{2} u_{m}^{2} + d^{2} m^{2} u_{h}^{2} + 4 h^{2} m^{2} u_{d}^{2}}{d^{6} h^{4}}}}{\\pi}$\n",
       "\n",
       "solved for uncertainty of input:\n",
       "\n",
       "$u_{m} = \\frac{\\sqrt{\\pi^{2} d^{6} h^{4} u_{\\rho}^{2} - \\pi^{2} d^{6} h^{2} \\rho^{2} u_{h}^{2} - 4 \\pi^{2} d^{4} h^{4} \\rho^{2} u_{d}^{2}}}{4 d h}$\n",
       "\n",
       " For output value of \n",
       "2.000\n",
       " ± \n",
       "0.031\n",
       " (k=1),\n",
       "\n",
       "required input value is \n",
       "2.356\n",
       " ± \n",
       "0.026\n",
       " (k=1).\n",
       "\n",
       "\n",
       "\n",
       "---\n",
       "\n",
       "## Monte Carlo reverse uncertainty\n",
       "\n",
       "For output value of \n",
       "2.000\n",
       " ± \n",
       "0.031\n",
       " (k=1), required input value is: \n",
       "2.356\n",
       " ± \n",
       "0.026\n",
       " (k=1)."
      ],
      "text/plain": [
       "ResultsReverse(gum=ResultsReverseGum(solvefor='m', solvefor_value=2.356194490192345, u_solvefor=u_m, u_solvefor_value=0.0256577135893836, u_solvefor_expr=sqrt(pi**2*d**6*h**4*u_rho**2 - pi**2*d**6*h**2*rho**2*u_h**2 - 4*pi**2*d**4*h**4*rho**2*u_d**2)/(4*d*h), u_forward_expr=4*sqrt((d**2*h**2*u_m**2 + d**2*m**2*u_h**2 + 4*h**2*m**2*u_d**2)/(d**6*h**4))/pi, function=4*m/(pi*d**2*h), funcname=rho, u_fname=u_rho, f_required=2, uf_required=0.030612244897959183, constants={}), montecarlo=ResultsReverseMc(solvefor='m', solvefor_value=2.3560091115938757, u_solvefor_value=0.025669455427001775, function=4*m/(pi*d**2*h), funcname=rho, f_required=2, uf_required=0.030612244897959183, mcresults=<suncal.uncertainty.results.monte.McResults object at 0x000002008CD997F0>, reverse_model=<suncal.uncertainty.model.Model object at 0x000002008C9B35C0>, constants={}))"
      ]
     },
     "execution_count": 3,
     "metadata": {},
     "output_type": "execute_result"
    }
   ],
   "source": [
    "model = reverse.ModelReverse('rho = m / (pi/4 * d**2 * h)',\n",
    "                          targetnom=rho_req,\n",
    "                          targetunc=urho_req/1.96,\n",
    "                          solvefor='m')\n",
    "model.var('h').measure(h).typeb(unc=uh, conf=.95)\n",
    "model.var('d').measure(d).typeb(unc=ud, conf=.95)\n",
    "# Don't need to specify 'm' as it will be solved for.\n",
    "\n",
    "# Reverse calc value of m to acheive rho +/- urho\n",
    "result = model.calculate()\n",
    "result"
   ]
  },
  {
   "cell_type": "markdown",
   "id": "432e4e7b",
   "metadata": {},
   "source": [
    "From this result, the uncertainty in mass must be 0.026 or smaller to achieve the desired uncertainty in density.\n",
    "\n",
    "The result has both a `gum` and `montecarlo` attribute, which contain the solve-for value, uncertainty in the solve-for value, and other parameters."
   ]
  },
  {
   "cell_type": "code",
   "execution_count": 4,
   "id": "afe25c8c",
   "metadata": {},
   "outputs": [
    {
     "data": {
      "text/plain": [
       "'rho = 2.356 ± 0.026'"
      ]
     },
     "execution_count": 4,
     "metadata": {},
     "output_type": "execute_result"
    }
   ],
   "source": [
    "f'{result.gum.funcname} = {result.gum.solvefor_value:.3f} ± {result.gum.u_solvefor_value:.3f}'"
   ]
  },
  {
   "cell_type": "markdown",
   "id": "96504614",
   "metadata": {},
   "source": [
    "## Understanding the Reverse Calculation\n",
    "\n",
    "A naive solution to the reverse problem be to simply flip around the measurement function, solving for $m$, and run through the calculator as such:"
   ]
  },
  {
   "cell_type": "code",
   "execution_count": 5,
   "id": "60d1bb26",
   "metadata": {},
   "outputs": [
    {
     "data": {
      "text/markdown": [
       "|Function   | Nominal   | Std. Uncertainty  |\n",
       "|----------|---------|------------------|\n",
       "|$m$   | 2.356  | 0.044          |\n",
       "\n",
       "\n",
       "\n",
       "|Function   | Tolerance   | Probability of Conformance  |\n",
       "|----------|-----------|----------------------------|"
      ],
      "text/plain": [
       "<suncal.uncertainty.results.gum.GumResults at 0x2008c561a30>"
      ]
     },
     "execution_count": 5,
     "metadata": {},
     "output_type": "execute_result"
    }
   ],
   "source": [
    "model = suncal.Model('m = rho * pi/4 * d**2 * h')\n",
    "model.var('rho').measure(rho_req).typeb(unc=urho_req, conf=.95)\n",
    "model.var('h').measure(h).typeb(unc=uh, conf=.95)\n",
    "model.var('d').measure(d).typeb(unc=ud, conf=.95)\n",
    "result_check = model.calculate_gum()\n",
    "result_check"
   ]
  },
  {
   "cell_type": "markdown",
   "id": "e088a442",
   "metadata": {},
   "source": [
    "However, checking this computed mass, $2.36 \\pm 0.044$ g, using a forward calculation for density produces an incorrect result! We get 95% coverage range of $\\pm 0.085$ instead of $\\pm 0.060$ as required. In other words, using this mass limit, there is a greater than the acceptable 5% chance of accepting an out-of-tolerance part.\n",
    "\n",
    "The incorrect result stems from two factors: (1) the linearity of the Taylor expansion used by GUM method may not be reversible, (2) the calculation neglects the fact that $\\rho$ is now correlated with the other input variables."
   ]
  },
  {
   "cell_type": "code",
   "execution_count": 6,
   "id": "d8ab8da4",
   "metadata": {},
   "outputs": [
    {
     "data": {
      "text/plain": [
       "0.04100125901604559"
      ]
     },
     "execution_count": 6,
     "metadata": {},
     "output_type": "execute_result"
    }
   ],
   "source": [
    "# Check the naive answer\n",
    "expected = result_check.expected['m']\n",
    "uncert = result_check.uncertainty['m']\n",
    "\n",
    "model = suncal.Model('rho = m / (pi/4 * d**2 * h)')\n",
    "model.var('m').measure(expected).typeb(std=uncert)\n",
    "model.var('h').measure(h).typeb(unc=uh, conf=.95)\n",
    "model.var('d').measure(d).typeb(unc=ud, conf=.95)\n",
    "result_check2 = model.calculate_gum()\n",
    "result_check2.expand('rho', .95)"
   ]
  },
  {
   "cell_type": "markdown",
   "id": "0f42b771",
   "metadata": {},
   "source": [
    "A proper reverse uncertainty calculation can be performed by finding $u_{\\rho}$ and solving for $u_m$. Suncal can do this for you, along with a correct Monte Carlo approach which includes correlation effects, using `suncal.reverse.ModelReverse`, as run above.\n",
    "\n",
    "Taking the `ModelReverse` result run above ($2.36 \\pm 0.026$ g) back in, we should get the required 95% uncertainty of $2.0 \\pm 0.060$ g."
   ]
  },
  {
   "cell_type": "code",
   "execution_count": 7,
   "id": "aa0fd071",
   "metadata": {},
   "outputs": [
    {
     "data": {
      "text/plain": [
       "0.05999889755854056"
      ]
     },
     "execution_count": 7,
     "metadata": {},
     "output_type": "execute_result"
    }
   ],
   "source": [
    "expected = result.gum.solvefor_value\n",
    "uncert = result.gum.u_solvefor_value\n",
    "\n",
    "model = suncal.Model('rho = m / (pi/4 * d**2 * h)')   # Set up in forward direction\n",
    "model.var('m').measure(expected).typeb(std=uncert)\n",
    "model.var('h').measure(h).typeb(unc=uh, conf=.95)\n",
    "model.var('d').measure(d).typeb(unc=ud, conf=.95)\n",
    "result_check = model.calculate_gum()\n",
    "result_check.expand('rho', conf=0.95)"
   ]
  },
  {
   "cell_type": "code",
   "execution_count": null,
   "id": "fb55fb0c",
   "metadata": {},
   "outputs": [],
   "source": []
  },
  {
   "cell_type": "markdown",
   "id": "a532aee6",
   "metadata": {},
   "source": [
    "### Using worst-case values\n",
    "\n",
    "Another common, yet incorrect, approach is to simply calculate the worst case value for mass using the highest and lowest values for each input variable. This method also results in a 95% density uncertainty well above the $0.0600$ requirement as shown here."
   ]
  },
  {
   "cell_type": "code",
   "execution_count": 8,
   "id": "797e5c80",
   "metadata": {},
   "outputs": [
    {
     "name": "stdout",
     "output_type": "stream",
     "text": [
      "Worst Case m = 2.358560 +/- 0.133532 (95%)\n"
     ]
    },
    {
     "data": {
      "text/markdown": [
       "|Function   | Method       | Nominal   | Std. Uncertainty   | 95% Coverage   | k         | Deg. Freedom  |\n",
       "|----------|------------|---------|------------------|--------------|---------|--------------|\n",
       "|$\\rho$   | GUM          | 2.002  | 0.062           | ± 0.12     | 1.960     | inf           |\n",
       "|$\\rho$   | Monte Carlo  | 2.002  | 0.062           | (1.882, 2.124) | 1.959     | &nbsp;        |"
      ],
      "text/plain": [
       "UncertaintyResults(gum=<suncal.uncertainty.results.gum.GumResults object at 0x000002008CDD1880>, montecarlo=<suncal.uncertainty.results.monte.McResults object at 0x000002008CD58AD0>)"
      ]
     },
     "execution_count": 8,
     "metadata": {},
     "output_type": "execute_result"
    }
   ],
   "source": [
    "# Calculate highest and lowest 95% range input values\n",
    "rho_hi = rho_req + urho_req\n",
    "rho_lo = rho_req - urho_req\n",
    "d_hi = d + ud\n",
    "d_lo = d - ud\n",
    "h_hi = h + uh\n",
    "h_lo = h - uh\n",
    "\n",
    "# Highest and lowest mass\n",
    "mhi = rho_hi * 3.1415/4 * d_hi**2 * h_hi\n",
    "mlo = rho_lo * 3.1415/4 * d_lo**2 * h_lo\n",
    "m = (mhi + mlo)/2\n",
    "um = (mhi - m)\n",
    "print('Worst Case m = {:.6f} +/- {:.6f} (95%)'.format(m, um))\n",
    "\n",
    "# Plug in to forward calculation, see resulting rho range\n",
    "model = suncal.Model('rho = m / (pi/4 * d**2 * h)')\n",
    "model.var('m').measure(m).typeb(unc=um, conf=.95)\n",
    "model.var('h').measure(h).typeb(unc=uh, conf=.95)\n",
    "model.var('d').measure(d).typeb(unc=ud, conf=.95)\n",
    "model.calculate()"
   ]
  },
  {
   "cell_type": "code",
   "execution_count": null,
   "id": "821fb6b7",
   "metadata": {},
   "outputs": [],
   "source": []
  }
 ],
 "metadata": {
  "kernelspec": {
   "display_name": "Python 3 (ipykernel)",
   "language": "python",
   "name": "python3"
  },
  "language_info": {
   "codemirror_mode": {
    "name": "ipython",
    "version": 3
   },
   "file_extension": ".py",
   "mimetype": "text/x-python",
   "name": "python",
   "nbconvert_exporter": "python",
   "pygments_lexer": "ipython3",
   "version": "3.12.0"
  }
 },
 "nbformat": 4,
 "nbformat_minor": 5
}
