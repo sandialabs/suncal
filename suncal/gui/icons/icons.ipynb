{
 "cells": [
  {
   "cell_type": "code",
   "execution_count": 1,
   "metadata": {},
   "outputs": [],
   "source": [
    "from contextlib import contextmanager\n",
    "import matplotlib.pyplot as plt\n",
    "import matplotlib.transforms as transforms\n",
    "from matplotlib.patches import Arc\n",
    "from matplotlib.patches import FancyBboxPatch\n",
    "import matplotlib.transforms as mtransforms\n",
    "\n",
    "import numpy as np\n",
    "from io import BytesIO\n",
    "import base64"
   ]
  },
  {
   "cell_type": "code",
   "execution_count": 2,
   "metadata": {},
   "outputs": [],
   "source": [
    "accent = 'orangered'\n",
    "blue = 'royalblue'\n",
    "dark = '#bbbbcc'  # Dark mode color\n",
    "light = 'black'   # Light mode color\n",
    "\n",
    "def makefig(frame=False):\n",
    "    plt.figure(figsize=(1,1), dpi=100)\n",
    "    if not frame:\n",
    "        plt.axis('off');\n",
    "    plt.subplots_adjust(left=0, bottom=0, right=1, top=1)  \n",
    "\n",
    "def tobase64():\n",
    "    buf = BytesIO()\n",
    "    plt.savefig(buf, format='svg', transparent=True)\n",
    "    fig64 = base64.b64encode(buf.getvalue())\n",
    "    return fig64\n",
    "\n",
    "pngstrings = {}"
   ]
  },
  {
   "cell_type": "code",
   "execution_count": 3,
   "metadata": {},
   "outputs": [
    {
     "data": {
      "image/png": "[encoded data removed]",
      "text/plain": [
       "<Figure size 100x100 with 1 Axes>"
      ]
     },
     "metadata": {},
     "output_type": "display_data"
    },
    {
     "data": {
      "image/png": "[encoded data removed]",
      "text/plain": [
       "<Figure size 100x100 with 1 Axes>"
      ]
     },
     "metadata": {},
     "output_type": "display_data"
    }
   ],
   "source": [
    "def draw_norm(color, name):\n",
    "    makefig()\n",
    "    x = np.linspace(-4.5,4.5,50)\n",
    "    y = np.exp(-x**2/4)\n",
    "    plt.plot(x, y, lw=3, color=color)\n",
    "    plt.ylim(-.1, 1.4);\n",
    "    pngstrings[name] = tobase64()\n",
    "\n",
    "draw_norm(light, 'normal')\n",
    "draw_norm(dark, 'normal_dark')"
   ]
  },
  {
   "cell_type": "code",
   "execution_count": 4,
   "metadata": {},
   "outputs": [
    {
     "data": {
      "image/png": "[encoded data removed]",
      "text/plain": [
       "<Figure size 100x100 with 1 Axes>"
      ]
     },
     "metadata": {},
     "output_type": "display_data"
    },
    {
     "data": {
      "image/png": "[encoded data removed]",
      "text/plain": [
       "<Figure size 100x100 with 1 Axes>"
      ]
     },
     "metadata": {},
     "output_type": "display_data"
    }
   ],
   "source": [
    "def draw_risk(color, name):\n",
    "    makefig()\n",
    "    limit = 1.5\n",
    "    x = np.linspace(-4.5,4.5,50)\n",
    "    y = np.exp(-x**2/4)\n",
    "    plt.plot(x, y, lw=3, color=color)\n",
    "    plt.axvline(limit, color=color, lw=2)\n",
    "    plt.fill_between(x, y, where=(x>limit), color=accent)\n",
    "    plt.ylim(-.1, 1.4)\n",
    "    pngstrings[name] = tobase64()\n",
    "\n",
    "draw_risk(light, 'risk')\n",
    "draw_risk(dark, 'risk_dark')"
   ]
  },
  {
   "cell_type": "code",
   "execution_count": 5,
   "metadata": {},
   "outputs": [
    {
     "data": {
      "image/png": "[encoded data removed]",
      "text/plain": [
       "<Figure size 100x100 with 1 Axes>"
      ]
     },
     "metadata": {},
     "output_type": "display_data"
    },
    {
     "data": {
      "image/png": "[encoded data removed]",
      "text/plain": [
       "<Figure size 100x100 with 1 Axes>"
      ]
     },
     "metadata": {},
     "output_type": "display_data"
    }
   ],
   "source": [
    "def draw_curve(color, name):\n",
    "    makefig()\n",
    "    np.random.seed(142941)\n",
    "    \n",
    "    x = np.linspace(.2,1, num=10)\n",
    "    y = np.random.normal(loc=x, scale=.2)\n",
    "    plt.plot(x, y, marker='o', ls='', color=color, mew=2, markersize=6, mfc='none', mec=color)\n",
    "    plt.plot([0, 1], [0, 1], color=accent, ls='--', lw=4, zorder=0, dash_capstyle='round');\n",
    "    plt.xlim(0,1)\n",
    "    plt.ylim(0,1)\n",
    "    pngstrings[name] = tobase64()\n",
    "\n",
    "draw_curve(light, 'curvefit')\n",
    "draw_curve(dark, 'curvefit_dark')"
   ]
  },
  {
   "cell_type": "code",
   "execution_count": 6,
   "metadata": {},
   "outputs": [
    {
     "data": {
      "image/png": "[encoded data removed]",
      "text/plain": [
       "<Figure size 100x100 with 1 Axes>"
      ]
     },
     "metadata": {},
     "output_type": "display_data"
    }
   ],
   "source": [
    "makefig()\n",
    "np.random.seed(623460)\n",
    "plt.hist(np.random.normal(size=100), bins=7, color=blue, edgecolor='white');\n",
    "pngstrings['histogram'] = tobase64()\n",
    "pngstrings['histogram_dark'] = tobase64()"
   ]
  },
  {
   "cell_type": "code",
   "execution_count": 7,
   "metadata": {},
   "outputs": [
    {
     "data": {
      "image/png": "[encoded data removed]",
      "text/plain": [
       "<Figure size 100x100 with 1 Axes>"
      ]
     },
     "metadata": {},
     "output_type": "display_data"
    },
    {
     "data": {
      "image/png": "[encoded data removed]",
      "text/plain": [
       "<Figure size 100x100 with 1 Axes>"
      ]
     },
     "metadata": {},
     "output_type": "display_data"
    }
   ],
   "source": [
    "def draw_table(color, name):\n",
    "    makefig()\n",
    "    bot = .1\n",
    "    plt.plot([0,1,1,0,0], [bot,bot,1,1,bot], color=color, lw=3)\n",
    "    plt.plot([.33, .33], [bot, 1], color=color, lw=3)\n",
    "    plt.plot([.66, .66], [bot, 1], color=color, lw=3)\n",
    "    plt.plot([0, 1], [.83, .83], color=color, lw=3)\n",
    "    plt.plot([.1, .2], [.7, .7], color=color, lw=2)\n",
    "    plt.plot([.1, .2], [.55, .55], color=color, lw=2)\n",
    "    plt.plot([.1, .2], [.4, .4], color=color, lw=2)\n",
    "    plt.plot([.1, .2], [.25, .25], color=color, lw=2)\n",
    "    plt.plot([.44, .54], [.7, .7], color=color, lw=2)\n",
    "    plt.plot([.44, .54], [.55, .55], color=color, lw=2)\n",
    "    plt.plot([.44, .54], [.4, .4], color=color, lw=2)\n",
    "    plt.plot([.44, .54], [.25, .25], color=color, lw=2)\n",
    "    plt.plot([.78, .88], [.7, .7], color=color, lw=2)\n",
    "    plt.plot([.78, .88], [.55, .55], color=color, lw=2)\n",
    "    plt.plot([.78, .88], [.4, .4], color=color, lw=2)\n",
    "    plt.plot([.78, .88], [.25, .25], color=color, lw=2)\n",
    "    plt.ylim(0,1.1)\n",
    "    pngstrings[name] = tobase64()\n",
    "\n",
    "draw_table(light, 'table')\n",
    "draw_table(dark, 'table_dark')"
   ]
  },
  {
   "cell_type": "code",
   "execution_count": 8,
   "metadata": {},
   "outputs": [
    {
     "data": {
      "image/png": "[encoded data removed]",
      "text/plain": [
       "<Figure size 100x100 with 1 Axes>"
      ]
     },
     "metadata": {},
     "output_type": "display_data"
    },
    {
     "data": {
      "image/png": "[encoded data removed]",
      "text/plain": [
       "<Figure size 100x100 with 1 Axes>"
      ]
     },
     "metadata": {},
     "output_type": "display_data"
    }
   ],
   "source": [
    "def draw_column(color, name):\n",
    "    makefig()\n",
    "    bot = .1\n",
    "    plt.plot([0,1,1,0,0], [bot,bot,1,1,bot], color=color, lw=2, ls=':')\n",
    "    plt.plot([.66, .66], [bot, 1], color=color, lw=2, ls=':')\n",
    "    plt.plot([.0, 1], [.83, .83], color=color, lw=2, ls=':')\n",
    "    plt.plot([.33, .33], [bot, 1], color=color, lw=3)\n",
    "    plt.plot([.33, 0, 0, .33], [1, 1, bot, bot], color=color, lw=3)\n",
    "    plt.plot([0, .33], [.83, .83], color=color, lw=3)\n",
    "    plt.ylim(0,1.1)\n",
    "    pngstrings[name] = tobase64()\n",
    "\n",
    "draw_column(light, 'column')\n",
    "draw_column(dark, 'column_dark')"
   ]
  },
  {
   "cell_type": "code",
   "execution_count": 9,
   "metadata": {},
   "outputs": [
    {
     "data": {
      "image/png": "[encoded data removed]",
      "text/plain": [
       "<Figure size 100x100 with 1 Axes>"
      ]
     },
     "metadata": {},
     "output_type": "display_data"
    },
    {
     "data": {
      "image/png": "[encoded data removed]",
      "text/plain": [
       "<Figure size 100x100 with 1 Axes>"
      ]
     },
     "metadata": {},
     "output_type": "display_data"
    }
   ],
   "source": [
    "def draw_target(color, name):\n",
    "    makefig()\n",
    "    plt.gca().add_patch(Arc((.5,.5), width=.4, height=.4, edgecolor=color, facecolor='none', lw=3,\n",
    "        theta1=20, theta2=70))\n",
    "    plt.gca().add_patch(Arc((.5,.5), width=.4, height=.4, edgecolor=color, facecolor='none', lw=3,\n",
    "        theta1=110, theta2=160))\n",
    "    plt.gca().add_patch(Arc((.5,.5), width=.4, height=.4, edgecolor=color, facecolor='none', lw=3,\n",
    "        theta1=200, theta2=250))\n",
    "    plt.gca().add_patch(Arc((.5,.5), width=.4, height=.4, edgecolor=color, facecolor='none', lw=3,\n",
    "        theta1=290, theta2=340))\n",
    "    plt.gca().add_patch(Arc((.5,.5), width=.8, height=.8, edgecolor=color, facecolor='none', lw=3,\n",
    "        theta1=15, theta2=75))\n",
    "    plt.gca().add_patch(Arc((.5,.5), width=.8, height=.8, edgecolor=color, facecolor='none', lw=3,\n",
    "        theta1=105, theta2=165))\n",
    "    plt.gca().add_patch(Arc((.5,.5), width=.8, height=.8, edgecolor=color, facecolor='none', lw=3,\n",
    "        theta1=195, theta2=255))\n",
    "    plt.gca().add_patch(Arc((.5,.5), width=.8, height=.8, edgecolor=color, facecolor='none', lw=3,\n",
    "        theta1=285, theta2=345))\n",
    "    plt.gca().add_patch(plt.Circle((.5,.5), radius=0.05, edgecolor=color, facecolor=color))\n",
    "    plt.plot([0.5, 0.5], [.65, 1], color=color, lw=3, solid_capstyle='round')\n",
    "    plt.plot([0.5, 0.5], [.35, 0], color=color, lw=3, solid_capstyle='round')\n",
    "    plt.plot([0, 0.35], [.5, .5], color=color, lw=3, solid_capstyle='round')\n",
    "    plt.plot([0.65, 1], [.5, .5], color=color, lw=3, solid_capstyle='round')\n",
    "    pngstrings[name] = tobase64()\n",
    "\n",
    "draw_target(light, 'target')\n",
    "draw_target(dark, 'target_dark')\n"
   ]
  },
  {
   "cell_type": "code",
   "execution_count": 10,
   "metadata": {},
   "outputs": [
    {
     "data": {
      "image/png": "[encoded data removed]",
      "text/plain": [
       "<Figure size 100x100 with 1 Axes>"
      ]
     },
     "metadata": {},
     "output_type": "display_data"
    },
    {
     "data": {
      "image/png": "[encoded data removed]",
      "text/plain": [
       "<Figure size 100x100 with 1 Axes>"
      ]
     },
     "metadata": {},
     "output_type": "display_data"
    }
   ],
   "source": [
    "def draw_box(color, name):\n",
    "    makefig()\n",
    "    np.random.seed(234234)\n",
    "    x = np.arange(0,4)\n",
    "    y = np.random.normal(x, scale=.4)*.75\n",
    "    plt.errorbar(x, y, yerr=.5, color=color, \n",
    "                 lw=2, capthick=2, capsize=0, markersize=12, marker='s', ls='')\n",
    "    plt.xlim(-.3,4.1)\n",
    "    pngstrings[name] = tobase64()\n",
    "\n",
    "draw_box(light, 'boxplot')\n",
    "draw_box(dark, 'boxplot_dark')\n"
   ]
  },
  {
   "cell_type": "code",
   "execution_count": 11,
   "metadata": {
    "scrolled": true
   },
   "outputs": [
    {
     "data": {
      "image/png": "[encoded data removed]",
      "text/plain": [
       "<Figure size 100x100 with 1 Axes>"
      ]
     },
     "metadata": {},
     "output_type": "display_data"
    },
    {
     "data": {
      "image/png": "[encoded data removed]",
      "text/plain": [
       "<Figure size 100x100 with 1 Axes>"
      ]
     },
     "metadata": {},
     "output_type": "display_data"
    }
   ],
   "source": [
    "def draw_caliper(color, name):\n",
    "    makefig()\n",
    "    \n",
    "    # Outline\n",
    "    plt.plot([0,   .95,  .95,  .12, .12, 0, 0],\n",
    "             [.25, .25, .1, .1, -.25, -0, .25],\n",
    "             lw=3, color=color)\n",
    "    \n",
    "    # Slider\n",
    "    a = np.array([[.25, .25, .35, .5,   .5, .25],\n",
    "                 [.12, -.25, .02,  .02, .13, .13]]).transpose()\n",
    "    p = plt.Polygon(a, edgecolor=color, lw=3, facecolor='none', zorder=10)\n",
    "    \n",
    "    # Inner-diameter calipers\n",
    "    plt.plot([.05, .05, .16, .27, .27], [.25, .38, .25, .38, .25],\n",
    "            color=color, lw=3)\n",
    "    \n",
    "    # Ruler ticks\n",
    "    plt.plot([.21, .21], [.25, .21], color=color, lw=3)\n",
    "    plt.plot([.35, .35], [.25, .21], color=color, lw=3)\n",
    "    plt.plot([.49, .49], [.25, .21], color=color, lw=3)\n",
    "    plt.plot([.63, .63], [.25, .21], color=color, lw=3)\n",
    "    plt.plot([.77, .77], [.25, .21], color=color, lw=3)\n",
    "    plt.plot([.07, .07], [.25, .21], color=color, lw=3)\n",
    "    plt.gca().add_patch(p)\n",
    "    plt.ylim(-.4,.6)\n",
    "    \n",
    "    pngstrings[name] = tobase64()\n",
    "\n",
    "draw_caliper(light, 'calipers')\n",
    "draw_caliper(dark, 'calipers_dark')\n"
   ]
  },
  {
   "cell_type": "code",
   "execution_count": 12,
   "metadata": {},
   "outputs": [
    {
     "data": {
      "image/png": "[encoded data removed]",
      "text/plain": [
       "<Figure size 100x100 with 1 Axes>"
      ]
     },
     "metadata": {},
     "output_type": "display_data"
    },
    {
     "data": {
      "image/png": "[encoded data removed]",
      "text/plain": [
       "<Figure size 100x100 with 1 Axes>"
      ]
     },
     "metadata": {},
     "output_type": "display_data"
    }
   ],
   "source": [
    "def draw_ruler(color, name):\n",
    "    makefig()\n",
    "    tr = transforms.Affine2D().rotate_deg(45)\n",
    "    \n",
    "    plt.plot([0, 5, 5, 0, 0], [0, 0, 1, 1, 0], lw=3, color=color, transform=tr + plt.gca().transData)\n",
    "    for i in range(1,5):\n",
    "        plt.plot([i, i], [1, .65], color=color, lw=2, transform=tr + plt.gca().transData)\n",
    "    for i in np.arange(0.5,5.5):\n",
    "        plt.plot([i, i], [1, .5], color=color, lw=2, transform=tr + plt.gca().transData)\n",
    "    pngstrings[name] = tobase64()\n",
    "\n",
    "draw_ruler(light, 'ruler')\n",
    "draw_ruler(dark, 'ruler_dark')"
   ]
  },
  {
   "cell_type": "code",
   "execution_count": 13,
   "metadata": {},
   "outputs": [
    {
     "data": {
      "image/png": "[encoded data removed]",
      "text/plain": [
       "<Figure size 100x100 with 1 Axes>"
      ]
     },
     "metadata": {},
     "output_type": "display_data"
    },
    {
     "data": {
      "image/png": "[encoded data removed]",
      "text/plain": [
       "<Figure size 100x100 with 1 Axes>"
      ]
     },
     "metadata": {},
     "output_type": "display_data"
    }
   ],
   "source": [
    "def draw_sweep(color, name):\n",
    "    makefig()\n",
    "    tr = transforms.Affine2D().rotate_deg(45)\n",
    "    \n",
    "    plt.plot([0, 5, 5, 0, 0], [0, 0, 1, 1, 0], lw=3, color=color, transform=tr + plt.gca().transData)\n",
    "    for i in range(1,5):\n",
    "        plt.plot([i, i], [1, .65], color=color, lw=2, transform=tr + plt.gca().transData)\n",
    "    for i in np.arange(0.5,5.5):\n",
    "        plt.plot([i, i], [1, .5], color=color, lw=2, transform=tr + plt.gca().transData)\n",
    "        \n",
    "    plt.arrow(1.125, 2.35, dx=0, dy=-1.2, lw=2, transform=tr + plt.gca().transData, color=accent, capstyle='round', length_includes_head=True, head_width=.35)\n",
    "    plt.arrow(2.5, 2.35, dx=0, dy=-1.2, lw=2, transform=tr + plt.gca().transData, color=accent, capstyle='round', length_includes_head=True, head_width=.35)\n",
    "    plt.arrow(3.875, 2.35, dx=0, dy=-1.2, lw=2, transform=tr + plt.gca().transData, color=accent, capstyle='round', length_includes_head=True, head_width=.35)\n",
    "    pngstrings[name] = tobase64()\n",
    "\n",
    "draw_sweep(light, 'rulersweep')\n",
    "draw_sweep(dark, 'rulersweep_dark')"
   ]
  },
  {
   "cell_type": "code",
   "execution_count": 14,
   "metadata": {},
   "outputs": [
    {
     "data": {
      "image/png": "[encoded data removed]",
      "text/plain": [
       "<Figure size 100x100 with 1 Axes>"
      ]
     },
     "metadata": {},
     "output_type": "display_data"
    },
    {
     "data": {
      "image/png": "[encoded data removed]",
      "text/plain": [
       "<Figure size 100x100 with 1 Axes>"
      ]
     },
     "metadata": {},
     "output_type": "display_data"
    }
   ],
   "source": [
    "def draw_targetlist(color, name):\n",
    "        \n",
    "    makefig()\n",
    "    plt.plot([0],[1], marker='o', mec=color, mfc='none', markersize=16, mew=2)\n",
    "    plt.plot([0],[1], marker='o', color=color, markersize=6)\n",
    "    plt.plot([0],[1], marker='+', color=color, markersize=22, mew=2)\n",
    "    plt.plot([.75, 2], [1,1], color=color, lw=4, solid_capstyle='round')\n",
    "    plt.plot([0],[.75], marker='o', mec=color, mfc='none', markersize=16, mew=2)\n",
    "    plt.plot([0],[.75], marker='o', color=color, markersize=6)\n",
    "    plt.plot([0],[.75], marker='+', color=color, markersize=22, mew=2)\n",
    "    plt.plot([.75, 2], [.75,.75], color=color, lw=4, solid_capstyle='round')\n",
    "    plt.plot([0],[.5], marker='o', mec=color, mfc='none', markersize=16, mew=2)\n",
    "    plt.plot([0],[.5], marker='o', color=color, markersize=6)\n",
    "    plt.plot([0],[.5], marker='+', color=color, markersize=22, mew=2)\n",
    "    plt.plot([.75, 2], [.5,.5], color=color, lw=4, solid_capstyle='round')\n",
    "    plt.xlim(-.5,2.5)\n",
    "    plt.ylim(.25, 1.15)\n",
    "    pngstrings['targetlist'] = tobase64()\n",
    "\n",
    "draw_targetlist(light, 'targetlist')\n",
    "draw_targetlist(dark, 'targetlist_dark')"
   ]
  },
  {
   "cell_type": "code",
   "execution_count": 15,
   "metadata": {},
   "outputs": [
    {
     "data": {
      "image/png": "[encoded data removed]",
      "text/plain": [
       "<Figure size 100x100 with 1 Axes>"
      ]
     },
     "metadata": {},
     "output_type": "display_data"
    },
    {
     "data": {
      "image/png": "[encoded data removed]",
      "text/plain": [
       "<Figure size 100x100 with 1 Axes>"
      ]
     },
     "metadata": {},
     "output_type": "display_data"
    }
   ],
   "source": [
    "def draw_report(color, name):\n",
    "    makefig()\n",
    "    plt.plot([0, 0, 6, 8, 8, 0], [0, 10, 10, 8, 0, 0], solid_joinstyle='round', lw=3, color=color)\n",
    "    plt.plot([6, 6, 8], [10, 8, 8], lw=3, color=color, solid_joinstyle='round', solid_capstyle='butt')\n",
    "    plt.plot([1.5, 6.5], [2,2], color=color, lw=3, solid_capstyle='round')\n",
    "    plt.plot([1.5, 6.5], [3.5,3.5], color=color, lw=3, solid_capstyle='round')\n",
    "    plt.plot([1.5, 6.5], [5,5], color=color, lw=3, solid_capstyle='round')\n",
    "    plt.plot([1.5, 6.5], [6.5,6.5], color=color, lw=3, solid_capstyle='round')\n",
    "    plt.xlim(-2,10)\n",
    "    plt.ylim(-1,11)\n",
    "    pngstrings[name] = tobase64()\n",
    "\n",
    "draw_report(light, 'report')\n",
    "draw_report(dark, 'report_dark')"
   ]
  },
  {
   "cell_type": "code",
   "execution_count": 16,
   "metadata": {},
   "outputs": [
    {
     "data": {
      "image/png": "[encoded data removed]",
      "text/plain": [
       "<Figure size 100x100 with 1 Axes>"
      ]
     },
     "metadata": {},
     "output_type": "display_data"
    },
    {
     "data": {
      "image/png": "[encoded data removed]",
      "text/plain": [
       "<Figure size 100x100 with 1 Axes>"
      ]
     },
     "metadata": {},
     "output_type": "display_data"
    }
   ],
   "source": [
    "def draw_load(color, name):\n",
    "    makefig()\n",
    "    bb = mtransforms.Bbox([[.05,.05], [.7, .8]])\n",
    "    p_bbox = FancyBboxPatch((bb.xmin, bb.ymin),\n",
    "                             abs(bb.width), abs(bb.height),\n",
    "                             boxstyle=\"round,pad=0.1\",\n",
    "                             lw=3,\n",
    "                             fc='none',\n",
    "                             ec=color)\n",
    "    plt.annotate('', (.2,.45), (1.1, .1),\n",
    "                arrowprops={'arrowstyle':'->', 'color': color, 'lw':4,  'mutation_scale': 30, 'connectionstyle':'angle,angleA=90,angleB=0,rad=10'})\n",
    "    plt.xlim(-.1,1.1)\n",
    "    plt.ylim(-.1,1.1)\n",
    "    plt.gca().add_patch(p_bbox);\n",
    "    pngstrings[name] = tobase64()\n",
    "\n",
    "\n",
    "draw_load(light, 'loaddat')\n",
    "draw_load(dark, 'loaddat_dark')\n"
   ]
  },
  {
   "cell_type": "code",
   "execution_count": 17,
   "metadata": {},
   "outputs": [
    {
     "data": {
      "image/png": "[encoded data removed]",
      "text/plain": [
       "<Figure size 100x100 with 1 Axes>"
      ]
     },
     "metadata": {},
     "output_type": "display_data"
    },
    {
     "data": {
      "image/png": "[encoded data removed]",
      "text/plain": [
       "<Figure size 100x100 with 1 Axes>"
      ]
     },
     "metadata": {},
     "output_type": "display_data"
    }
   ],
   "source": [
    "def draw_loaddist(color, name):\n",
    "    makefig()\n",
    "    bb = mtransforms.Bbox([[.2,.1], [1.5, 2.0]])\n",
    "    p_bbox = FancyBboxPatch((bb.xmin, bb.ymin),\n",
    "                                 abs(bb.width), abs(bb.height),\n",
    "                                 boxstyle=\"round,pad=0.1\",\n",
    "                                lw=3,\n",
    "                                fc='none',\n",
    "                                 ec=color)\n",
    "    xx = np.linspace(-.8,.8,num=100)\n",
    "    yy = np.exp(-(xx**2)*10) + .6\n",
    "    plt.plot(xx+2.7,yy, lw=3)\n",
    "    plt.arrow(2.05, 1.1, dx=-1, dy=0, lw=2, head_width=.2, facecolor=color, edgecolor=color)\n",
    "    plt.xlim(-.1,3.4)\n",
    "    plt.ylim(-.1,2.4)\n",
    "    plt.gca().add_patch(p_bbox)\n",
    "    pngstrings[name] = tobase64()\n",
    "\n",
    "draw_loaddist(light, 'loaddist')\n",
    "draw_loaddist(dark, 'loaddist_dark')"
   ]
  },
  {
   "cell_type": "code",
   "execution_count": 18,
   "metadata": {},
   "outputs": [
    {
     "data": {
      "image/png": "[encoded data removed]",
      "text/plain": [
       "<Figure size 100x100 with 1 Axes>"
      ]
     },
     "metadata": {},
     "output_type": "display_data"
    },
    {
     "data": {
      "image/png": "[encoded data removed]",
      "text/plain": [
       "<Figure size 100x100 with 1 Axes>"
      ]
     },
     "metadata": {},
     "output_type": "display_data"
    }
   ],
   "source": [
    "def draw_more(color, name):\n",
    "    makefig()\n",
    "    plt.plot([0,1,2],[0,0,0], marker='o', ls='', markersize=10, color=color)\n",
    "    plt.xlim(-.2, 2.2)\n",
    "    pngstrings[name] = tobase64()\n",
    "\n",
    "draw_more(light, 'more')\n",
    "draw_more(dark, 'more_dark')\n"
   ]
  },
  {
   "cell_type": "code",
   "execution_count": 19,
   "metadata": {},
   "outputs": [
    {
     "data": {
      "image/png": "[encoded data removed]",
      "text/plain": [
       "<Figure size 100x100 with 1 Axes>"
      ]
     },
     "metadata": {},
     "output_type": "display_data"
    },
    {
     "data": {
      "image/png": "[encoded data removed]",
      "text/plain": [
       "<Figure size 100x100 with 1 Axes>"
      ]
     },
     "metadata": {},
     "output_type": "display_data"
    }
   ],
   "source": [
    "def draw_add(color, name):\n",
    "    makefig()\n",
    "    plt.plot(0,0, marker='+', ls='', markersize=40, mew=4, color=color)\n",
    "    plt.xlim(-.2, .2)\n",
    "    pngstrings[name] = tobase64()\n",
    "\n",
    "draw_add(light, 'add')\n",
    "draw_add(dark, 'add_dark')"
   ]
  },
  {
   "cell_type": "code",
   "execution_count": 20,
   "metadata": {},
   "outputs": [
    {
     "data": {
      "image/png": "[encoded data removed]",
      "text/plain": [
       "<Figure size 100x100 with 1 Axes>"
      ]
     },
     "metadata": {},
     "output_type": "display_data"
    },
    {
     "data": {
      "image/png": "[encoded data removed]",
      "text/plain": [
       "<Figure size 100x100 with 1 Axes>"
      ]
     },
     "metadata": {},
     "output_type": "display_data"
    }
   ],
   "source": [
    "def draw_left(color, name):\n",
    "    makefig()\n",
    "    plt.plot(0,0, marker=r'←', ls='', markersize=40, mew=4, color=color)\n",
    "    plt.xlim(-.2, .2)\n",
    "    pngstrings[name] = tobase64()\n",
    "\n",
    "draw_left(light, 'left')\n",
    "draw_left(dark, 'left_dark')"
   ]
  },
  {
   "cell_type": "code",
   "execution_count": 21,
   "metadata": {},
   "outputs": [
    {
     "data": {
      "image/png": "[encoded data removed]",
      "text/plain": [
       "<Figure size 100x100 with 1 Axes>"
      ]
     },
     "metadata": {},
     "output_type": "display_data"
    },
    {
     "data": {
      "image/png": "[encoded data removed]",
      "text/plain": [
       "<Figure size 100x100 with 1 Axes>"
      ]
     },
     "metadata": {},
     "output_type": "display_data"
    }
   ],
   "source": [
    "def draw_right(color, name):\n",
    "    makefig()\n",
    "    plt.plot(0,0, marker=r'→', ls='', markersize=40, mew=4, color=color)\n",
    "    plt.xlim(-.2, .2)\n",
    "    pngstrings[name] = tobase64()\n",
    "\n",
    "draw_right(light, 'right')\n",
    "draw_right(dark, 'right_dark')"
   ]
  },
  {
   "cell_type": "code",
   "execution_count": 22,
   "metadata": {},
   "outputs": [
    {
     "data": {
      "image/png": "[encoded data removed]",
      "text/plain": [
       "<Figure size 100x100 with 1 Axes>"
      ]
     },
     "metadata": {},
     "output_type": "display_data"
    },
    {
     "data": {
      "image/png": "[encoded data removed]",
      "text/plain": [
       "<Figure size 100x100 with 1 Axes>"
      ]
     },
     "metadata": {},
     "output_type": "display_data"
    }
   ],
   "source": [
    "def draw_remove(color, name):\n",
    "    makefig()\n",
    "    plt.plot(0,0, marker='−', ls='', markersize=40, mew=4, color=color)\n",
    "    plt.xlim(-.2, .2)\n",
    "    plt.ylim(-.15, .2)\n",
    "    pngstrings[name] = tobase64()\n",
    "\n",
    "draw_remove(light, 'remove')\n",
    "draw_remove(dark, 'remove_dark')"
   ]
  },
  {
   "cell_type": "code",
   "execution_count": 23,
   "metadata": {},
   "outputs": [
    {
     "data": {
      "image/png": "[encoded data removed]",
      "text/plain": [
       "<Figure size 100x100 with 1 Axes>"
      ]
     },
     "metadata": {},
     "output_type": "display_data"
    },
    {
     "data": {
      "image/png": "[encoded data removed]",
      "text/plain": [
       "<Figure size 100x100 with 1 Axes>"
      ]
     },
     "metadata": {},
     "output_type": "display_data"
    }
   ],
   "source": [
    "def draw_dists(color, name):\n",
    "    makefig()\n",
    "    x = np.linspace(-4.5,4.5,50)\n",
    "    y = 0.6 * np.exp(-x**2/6)\n",
    "    y2 = np.exp(-(x-.8)**2/.4)\n",
    "    plt.plot(x, y, lw=3, color=color)\n",
    "    plt.plot(x, y2, lw=3, color=accent)\n",
    "    plt.ylim(-.1, 1.4);\n",
    "    pngstrings[name] = tobase64()\n",
    "\n",
    "draw_dists(light, 'dists')\n",
    "draw_dists(dark, 'dists_dark')"
   ]
  },
  {
   "cell_type": "code",
   "execution_count": 24,
   "metadata": {},
   "outputs": [
    {
     "data": {
      "image/png": "[encoded data removed]",
      "text/plain": [
       "<Figure size 100x100 with 1 Axes>"
      ]
     },
     "metadata": {},
     "output_type": "display_data"
    },
    {
     "data": {
      "image/png": "[encoded data removed]",
      "text/plain": [
       "<Figure size 100x100 with 1 Axes>"
      ]
     },
     "metadata": {},
     "output_type": "display_data"
    }
   ],
   "source": [
    "def draw_help(color, name):\n",
    "    makefig()\n",
    "    plt.text(0, 0, '?', fontsize=72, color=color)\n",
    "    plt.ylim(-.1, .5);\n",
    "    plt.xlim(-.2, .6);\n",
    "    pngstrings[name] = tobase64()\n",
    "\n",
    "draw_help(light, 'help')\n",
    "draw_help(dark, 'help_dark')"
   ]
  },
  {
   "cell_type": "code",
   "execution_count": 25,
   "metadata": {},
   "outputs": [
    {
     "data": {
      "image/png": "[encoded data removed]",
      "text/plain": [
       "<Figure size 100x100 with 1 Axes>"
      ]
     },
     "metadata": {},
     "output_type": "display_data"
    },
    {
     "data": {
      "image/png": "[encoded data removed]",
      "text/plain": [
       "<Figure size 100x100 with 1 Axes>"
      ]
     },
     "metadata": {},
     "output_type": "display_data"
    }
   ],
   "source": [
    "def draw_clip(color, name):\n",
    "    makefig()\n",
    "    plt.plot([0, 0,   2,  2, 6,   6, 8, 8, 8, 0],\n",
    "             [0, 10, 10, 10.7, 10.7, 10, 10, 8, 0, 0],\n",
    "             solid_joinstyle='round', lw=3, color=color)\n",
    "    plt.plot([ 2, 2, 6, 6],\n",
    "             [10, 9.3, 9.3, 10], solid_joinstyle='round', lw=3, color=color)\n",
    "    plt.plot([1.5, 6.5], [2,2], color=color, lw=3, solid_capstyle='round')\n",
    "    plt.plot([1.5, 6.5], [3.5,3.5], color=color, lw=3, solid_capstyle='round')\n",
    "    plt.plot([1.5, 6.5], [5,5], color=color, lw=3, solid_capstyle='round')\n",
    "    plt.plot([1.5, 6.5], [6.5,6.5], color=color, lw=3, solid_capstyle='round')\n",
    "    plt.xlim(-2,10)\n",
    "    plt.ylim(-1,12.5)\n",
    "    pngstrings[name] = tobase64()\n",
    "\n",
    "draw_clip(light, 'clipboard')\n",
    "draw_clip(dark, 'clipboard_dark')"
   ]
  },
  {
   "cell_type": "code",
   "execution_count": 26,
   "metadata": {},
   "outputs": [
    {
     "data": {
      "image/png": "[encoded data removed]",
      "text/plain": [
       "<Figure size 100x100 with 1 Axes>"
      ]
     },
     "metadata": {},
     "output_type": "display_data"
    },
    {
     "data": {
      "image/png": "[encoded data removed]",
      "text/plain": [
       "<Figure size 100x100 with 1 Axes>"
      ]
     },
     "metadata": {},
     "output_type": "display_data"
    }
   ],
   "source": [
    "def draw_interval(color, name):\n",
    "    makefig()\n",
    "    np.random.seed(142941)\n",
    "    \n",
    "    x = np.linspace(0, 1, num=20)\n",
    "    y = x/4\n",
    "    yp = y + (x/2)**2 + .1\n",
    "    ym = y - (x/2)**2 - .1\n",
    "    \n",
    "    plt.plot(x, y, color=color, lw=2)\n",
    "    plt.plot(x, yp, color=color, ls='-', lw=3, dash_capstyle='round')\n",
    "    plt.plot(x, ym, color=color, ls='-', lw=3, dash_capstyle='round')\n",
    "    plt.axvline(.75, color=accent, lw=4, ls='--', dash_capstyle='round')\n",
    "    pngstrings[name] = tobase64()\n",
    "\n",
    "draw_interval(light, 'interval')\n",
    "draw_interval(dark, 'interval_dark')"
   ]
  },
  {
   "cell_type": "code",
   "execution_count": 27,
   "metadata": {},
   "outputs": [
    {
     "data": {
      "image/png": "[encoded data removed]",
      "text/plain": [
       "<Figure size 100x100 with 1 Axes>"
      ]
     },
     "metadata": {},
     "output_type": "display_data"
    },
    {
     "data": {
      "image/png": "[encoded data removed]",
      "text/plain": [
       "<Figure size 100x100 with 1 Axes>"
      ]
     },
     "metadata": {},
     "output_type": "display_data"
    }
   ],
   "source": [
    "def draw_wizard(color, name):\n",
    "    makefig(frame=False)\n",
    "    plt.gca().add_patch(Arc((0, 0), width=1, height=1, theta1=105, theta2=75, lw=3, color=color))\n",
    "    plt.plot([.15, .15], [.5, .9], lw=3, color=color)\n",
    "    plt.plot([-.15, -.15], [.5, .9], lw=3, color=color)\n",
    "    plt.plot([-.21, .21], [.9, .9], lw=3, color=color, solid_capstyle='round')\n",
    "    plt.plot([-.15, -.05], [.75, .75], lw=2, color=color, solid_capstyle='round')\n",
    "    plt.plot([-.15, -.05], [.6, .6], lw=2, color=color, solid_capstyle='round')\n",
    "    xx = np.linspace(-.5, .5)\n",
    "    yy = np.sin(xx*5-3)/20\n",
    "    y2 = -np.sqrt(.5**2-xx**2)\n",
    "    plt.fill_between(xx, yy, y2=y2, color=blue, zorder=0)\n",
    "    plt.plot(.45, 1.3, marker='o', mfc='none', color=blue, mew=2)\n",
    "    plt.plot(.1, 1.15, marker='o', mfc='none', color=blue, mew=2)\n",
    "    plt.plot(.2, 1.45, marker='o', mfc='none', color=blue, mew=2)\n",
    "    plt.axis('equal');\n",
    "    pngstrings[name] = tobase64()\n",
    "\n",
    "draw_wizard(light, 'wizard')\n",
    "draw_wizard(dark, 'wizard_dark')"
   ]
  },
  {
   "cell_type": "code",
   "execution_count": 28,
   "metadata": {},
   "outputs": [
    {
     "data": {
      "image/png": "[encoded data removed]",
      "text/plain": [
       "<Figure size 100x100 with 1 Axes>"
      ]
     },
     "metadata": {},
     "output_type": "display_data"
    },
    {
     "data": {
      "image/png": "[encoded data removed]",
      "text/plain": [
       "<Figure size 100x100 with 1 Axes>"
      ]
     },
     "metadata": {},
     "output_type": "display_data"
    }
   ],
   "source": [
    "def draw_tolerance(color, name):\n",
    "    makefig()\n",
    "    plt.plot([-1, -1], [-.5, .5], ls='-', lw=4, color=color)\n",
    "    plt.plot([1, 1], [-.5, .5], ls='-', lw=4, color=color)\n",
    "    plt.plot([-1, 1], [.5, .5], ls=':', lw=2, color=color)\n",
    "    plt.plot([-1, 1], [-.5, -.5], ls=':', lw=2, color=color)\n",
    "    plt.arrow(-.8, 0, 1.6, 0, lw=2, head_width=.2, head_length=.2, length_includes_head=True, color=color)\n",
    "    plt.arrow(.8, 0, -1.6, 0, lw=2, head_width=.2, head_length=.2, length_includes_head=True, color=color)\n",
    "    plt.ylim(-1, 1)\n",
    "    pngstrings[name] = tobase64()\n",
    "\n",
    "\n",
    "draw_tolerance(light, 'tolerance')\n",
    "draw_tolerance(dark, 'tolerance_dark')"
   ]
  },
  {
   "cell_type": "code",
   "execution_count": null,
   "metadata": {},
   "outputs": [],
   "source": []
  },
  {
   "cell_type": "code",
   "execution_count": 29,
   "metadata": {},
   "outputs": [
    {
     "data": {
      "image/png": "[encoded data removed]",
      "text/plain": [
       "<Figure size 100x100 with 1 Axes>"
      ]
     },
     "metadata": {},
     "output_type": "display_data"
    },
    {
     "data": {
      "image/png": "[encoded data removed]",
      "text/plain": [
       "<Figure size 100x100 with 1 Axes>"
      ]
     },
     "metadata": {},
     "output_type": "display_data"
    }
   ],
   "source": [
    "def draw_gb(color, name):\n",
    "    makefig()\n",
    "    plt.plot([-1, -1], [-.5, .5], ls='-', lw=4, color=color)\n",
    "    plt.plot([1, 1], [-.5, .5], ls='-', lw=4, color=color)\n",
    "    plt.plot([-1, 1], [.5, .5], ls=':', lw=2, color=color)\n",
    "    plt.plot([-1, 1], [-.5, -.5], ls=':', lw=2, color=color)\n",
    "    plt.plot([-.75, -.75], [-.4, .4], ls='-', lw=4, color=accent)\n",
    "    plt.plot([.75, .75], [-.4, .4], ls='-', lw=4, color=accent)\n",
    "    plt.arrow(-.6, 0, 1.2, 0, lw=2, head_width=.2, head_length=.2, length_includes_head=True, color=color)\n",
    "    plt.arrow(.6, 0, -1.2, 0, lw=2, head_width=.2, head_length=.2, length_includes_head=True, color=color)\n",
    "    plt.ylim(-1, 1)\n",
    "    pngstrings[name] = tobase64()\n",
    "\n",
    "draw_gb(light, 'guardband')\n",
    "draw_gb(dark, 'guardband_dark')"
   ]
  },
  {
   "cell_type": "code",
   "execution_count": 30,
   "metadata": {},
   "outputs": [
    {
     "data": {
      "image/png": "[encoded data removed]",
      "text/plain": [
       "<Figure size 100x100 with 1 Axes>"
      ]
     },
     "metadata": {},
     "output_type": "display_data"
    },
    {
     "data": {
      "image/png": "[encoded data removed]",
      "text/plain": [
       "<Figure size 100x100 with 1 Axes>"
      ]
     },
     "metadata": {},
     "output_type": "display_data"
    }
   ],
   "source": [
    "def draw_indirect(color, name):\n",
    "    makefig()\n",
    "    plt.plot([0, 0, 1, 1, 0], [0, 1, 1, 0, 0], color=color, lw=2)\n",
    "    plt.arrow(0, 1.2, 1, 0, color=blue, lw=2, head_width=.15, head_length=.15, length_includes_head=True)\n",
    "    plt.arrow(1, 1.2, -1, 0, color=blue, lw=2, head_width=.15, head_length=.15, length_includes_head=True)\n",
    "    plt.arrow(1.2, 0, 0, .9, color=blue, lw=2, head_width=.15, head_length=.15, length_includes_head=True)\n",
    "    plt.arrow(1.2, .9, 0, -.9, color=blue, lw=2, head_width=.15, head_length=.15, length_includes_head=True)\n",
    "    plt.xlim(-.1, 1.4)\n",
    "    plt.ylim(-.1, 1.4)\n",
    "    pngstrings[name] = tobase64()\n",
    "\n",
    "draw_indirect(light, 'indirect')\n",
    "draw_indirect(dark, 'indirect_dark')\n"
   ]
  },
  {
   "cell_type": "code",
   "execution_count": 31,
   "metadata": {},
   "outputs": [
    {
     "data": {
      "image/png": "[encoded data removed]",
      "text/plain": [
       "<Figure size 100x100 with 1 Axes>"
      ]
     },
     "metadata": {},
     "output_type": "display_data"
    },
    {
     "data": {
      "image/png": "[encoded data removed]",
      "text/plain": [
       "<Figure size 100x100 with 1 Axes>"
      ]
     },
     "metadata": {},
     "output_type": "display_data"
    }
   ],
   "source": [
    "def draw_curve(color, name):\n",
    "    makefig()\n",
    "    x = np.linspace(-1, 1, num=50)\n",
    "    y = 1 / (1 + np.exp(-x*6))\n",
    "    plt.plot(x, y, lw=3, color=color)\n",
    "    plt.plot(x[0], y[0], marker='s', color=blue, markersize=10)\n",
    "    plt.plot(x[-1], y[-1], marker='s', color=blue, markersize=10)\n",
    "    plt.plot(x[25], y[25], marker='s', color=blue, markersize=10)\n",
    "    plt.plot(x[18], y[18], marker='s', color=blue, markersize=10)\n",
    "    plt.plot(x[33], y[33], marker='s', color=blue, markersize=10)\n",
    "    pngstrings[name] = tobase64()\n",
    "\n",
    "draw_curve(light, 'curve')\n",
    "draw_curve(dark, 'curve_dark')"
   ]
  },
  {
   "cell_type": "code",
   "execution_count": 32,
   "metadata": {},
   "outputs": [
    {
     "data": {
      "image/png": "[encoded data removed]",
      "text/plain": [
       "<Figure size 100x100 with 1 Axes>"
      ]
     },
     "metadata": {},
     "output_type": "display_data"
    },
    {
     "data": {
      "image/png": "[encoded data removed]",
      "text/plain": [
       "<Figure size 100x100 with 1 Axes>"
      ]
     },
     "metadata": {},
     "output_type": "display_data"
    }
   ],
   "source": [
    "def draw_eqn(color, name):\n",
    "    makefig()\n",
    "    plt.text(0, .25, 'f(x)', color=color, math_fontfamily='stix', fontsize=56)\n",
    "    pngstrings[name] = tobase64()\n",
    "\n",
    "draw_eqn(light, 'equation')\n",
    "draw_eqn(dark, 'equation_dark')"
   ]
  },
  {
   "cell_type": "code",
   "execution_count": 33,
   "metadata": {},
   "outputs": [
    {
     "data": {
      "image/png": "[encoded data removed]",
      "text/plain": [
       "<Figure size 100x100 with 1 Axes>"
      ]
     },
     "metadata": {},
     "output_type": "display_data"
    },
    {
     "data": {
      "image/png": "[encoded data removed]",
      "text/plain": [
       "<Figure size 100x100 with 1 Axes>"
      ]
     },
     "metadata": {},
     "output_type": "display_data"
    }
   ],
   "source": [
    "def draw_meter(color, name):\n",
    "    makefig()\n",
    "    rect = FancyBboxPatch(\n",
    "        (.0, .0),\n",
    "        boxstyle=\"round, pad=0, rounding_size=0.15\",\n",
    "        color=color,\n",
    "        width=1,\n",
    "        height=1,\n",
    "        lw=3,\n",
    "        fill=False)\n",
    "    plt.gca().add_patch(rect)\n",
    "    plt.gca().add_patch(\n",
    "        Arc((.5, .5), 1, .75, color=color, theta1=30, theta2=150, lw=3)\n",
    "    )\n",
    "    \n",
    "    # Ticks\n",
    "    plt.plot([.5, .5], [.8, .85], lw=2, color=color)\n",
    "    plt.plot([.85, .9], [.68, .74], lw=2, color=color)\n",
    "    plt.plot([.1, .15], [.74, .68], lw=2, color=color)\n",
    "    plt.plot([.3, .315], [.8, .76], lw=2, color=color)\n",
    "    plt.plot([.7, .685], [.8, .76], lw=2, color=color)\n",
    "    \n",
    "    # Needle\n",
    "    th = 110\n",
    "    cx = .5\n",
    "    cy = .25\n",
    "    plt.plot(\n",
    "        (cx, cx + .4*np.cos(np.radians(th))),\n",
    "        (cy, cy + .4*np.sin(np.radians(th))),\n",
    "        color=color,\n",
    "        lw=3\n",
    "    )\n",
    "    plt.plot(cx, cy, marker='o', color=color, markersize=10)\n",
    "    plt.plot([0, 1], [cy, cy], lw=3, color=color)\n",
    "    \n",
    "    pngstrings[name] = tobase64()\n",
    "\n",
    "draw_meter(light, 'meter')\n",
    "draw_meter(dark, 'meter_dark')"
   ]
  },
  {
   "cell_type": "code",
   "execution_count": 34,
   "metadata": {},
   "outputs": [
    {
     "data": {
      "image/png": "[encoded data removed]",
      "text/plain": [
       "<Figure size 100x100 with 1 Axes>"
      ]
     },
     "metadata": {},
     "output_type": "display_data"
    },
    {
     "data": {
      "image/png": "[encoded data removed]",
      "text/plain": [
       "<Figure size 100x100 with 1 Axes>"
      ]
     },
     "metadata": {},
     "output_type": "display_data"
    }
   ],
   "source": [
    "def draw_map(color, name):\n",
    "    makefig()\n",
    "    dy = .065\n",
    "    w = 1\n",
    "    h = 1\n",
    "    plt.plot([0, w/4, w/2, 3*w/4, w, w, 3*w/4, w/2, w/4, 0, 0],\n",
    "             [dy, 0, dy, 0, dy, h, h-dy, 1, h-dy, h, dy],\n",
    "             color=color,\n",
    "             lw=3)\n",
    "    plt.ylim(-.15, 1.15)\n",
    "    \n",
    "    x = np.linspace(.15, .8)\n",
    "    y = .5 + .25*np.sin((x-.15)*7.75)\n",
    "    plt.plot(x, y, color=color, ls='--')\n",
    "    plt.plot(x[0], y[0], marker='s', color=blue, markersize=6)\n",
    "    plt.plot(x[-1], y[-1], marker='o', color=accent, markersize=6)\n",
    "    \n",
    "    pngstrings[name] = tobase64()\n",
    "\n",
    "draw_map(light, 'map')\n",
    "draw_map(dark, 'map_dark')"
   ]
  },
  {
   "cell_type": "code",
   "execution_count": 35,
   "metadata": {},
   "outputs": [
    {
     "data": {
      "image/png": "[encoded data removed]",
      "text/plain": [
       "<Figure size 100x100 with 1 Axes>"
      ]
     },
     "metadata": {},
     "output_type": "display_data"
    },
    {
     "data": {
      "image/png": "[encoded data removed]",
      "text/plain": [
       "<Figure size 100x100 with 1 Axes>"
      ]
     },
     "metadata": {},
     "output_type": "display_data"
    }
   ],
   "source": [
    "def draw_x(color, name):\n",
    "        \n",
    "    makefig()\n",
    "    plt.plot([0],[1], marker='o', mec=color, mfc='none', markersize=16, mew=2)\n",
    "    plt.plot([0],[1], marker='o', color=color, markersize=6)\n",
    "    plt.plot([0],[1], marker='+', color=color, markersize=22, mew=2)\n",
    "    plt.plot([0],[.5], marker='o', mec=color, mfc='none', markersize=16, mew=2)\n",
    "    plt.plot([0],[.5], marker='o', color=color, markersize=6)\n",
    "    plt.plot([0],[.5], marker='+', color=color, markersize=22, mew=2)\n",
    "    plt.plot([0],[0], marker='o', mec=color, mfc='none', markersize=16, mew=2)\n",
    "    plt.plot([0],[0], marker='o', color=color, markersize=6)\n",
    "    plt.plot([0],[0], marker='+', color=color, markersize=22, mew=2)\n",
    "\n",
    "    \n",
    "    arc = Arc((1, (1+.5)/2), 1.5, (1-.5), theta1=-90, theta2=90, angle=0, color=color, lw=2)\n",
    "    plt.arrow(1.1, .5, -.15, 0, length_includes_head=True, width=.05, color=color, fill=color)\n",
    "    plt.gca().add_patch(arc)\n",
    "    arc = Arc((-1, .25), 1.5, (1-.5), theta1=-90, theta2=90, angle=180, color=color, lw=2)\n",
    "    plt.arrow(-1, .0, .15, 0, length_includes_head=True, width=.05, color=color, fill=color)\n",
    "    plt.gca().add_patch(arc)\n",
    "\n",
    "    plt.xlim(-2.5 ,2.5)\n",
    "    plt.ylim(-.25, 1.25)\n",
    "    pngstrings[name] = tobase64()\n",
    "\n",
    "draw_x(light, 'trace')\n",
    "draw_x(dark, 'trace_dark')"
   ]
  },
  {
   "cell_type": "code",
   "execution_count": null,
   "metadata": {},
   "outputs": [],
   "source": []
  },
  {
   "cell_type": "code",
   "execution_count": 37,
   "metadata": {},
   "outputs": [],
   "source": [
    "with open('PSLcal_logo.png', 'rb') as f:\n",
    "    logo = f.read()\n",
    "\n",
    "with open('SNL_Horizontal_Black_Blue.png', 'rb') as f:\n",
    "    logosnl = f.read()\n",
    "    \n",
    "with open('snllogo.py', 'w') as f:\n",
    "    f.write('# snllogo.py autogenerated from icons.ipynb. Icon stored in PNG/base64.\\n\\n')\n",
    "    f.write('logo = {}'.format(base64.b64encode(logo)))\n",
    "    f.write('\\n\\n')\n",
    "    f.write('logosnl = {}'.format(base64.b64encode(logosnl)))"
   ]
  },
  {
   "cell_type": "code",
   "execution_count": 38,
   "metadata": {},
   "outputs": [],
   "source": [
    "with open('pngs.py', 'w') as f:\n",
    "    f.write('# icons.py autogenerated from icons.ipynb\\n\\n')\n",
    "    for k, v in pngstrings.items():\n",
    "        f.write(\"{} = {}\".format(k, v))\n",
    "        f.write('\\n\\n')"
   ]
  },
  {
   "cell_type": "code",
   "execution_count": null,
   "metadata": {},
   "outputs": [],
   "source": []
  }
 ],
 "metadata": {
  "kernelspec": {
   "display_name": "Python 3 (ipykernel)",
   "language": "python",
   "name": "python3"
  },
  "language_info": {
   "codemirror_mode": {
    "name": "ipython",
    "version": 3
   },
   "file_extension": ".py",
   "mimetype": "text/x-python",
   "name": "python",
   "nbconvert_exporter": "python",
   "pygments_lexer": "ipython3",
   "version": "3.12.0"
  }
 },
 "nbformat": 4,
 "nbformat_minor": 4
}
